{
 "cells": [
  {
   "cell_type": "markdown",
   "metadata": {},
   "source": [
    "# Тема 02. Работа с табличными данными\n",
    "Большое количество данных, которые используются в машинном обучении, представлены в виде таблиц, где в столбцах представлены различные признаки и целевые переменные. \n",
    "Для работы с такими данными в Python есть замечательная библиотека [`pandas`](https://pandas.pydata.org/docs/user_guide/index.html) тесно связанная с уже известной нам `numpy`. К пандам отношения не имеет, название пошло от \"панельные данные\".\n"
   ]
  },
  {
   "cell_type": "markdown",
   "metadata": {},
   "source": [
    "# Pandas\n",
    "## Создание и индексация\n",
    "В `pandas` два основных вида объектов (типов) Series и Dataframe, они похожи между собой, но Dataframe это фактически таблица, в которой есть строки, столбцы, а Series это один столбец со строками.\n",
    "Столбцы и\\или строки могут иметь названия, которые выступают их индексами и к определенному столбцу (или строке) можно обращаться именно по названию.  \n",
    "\n",
    "Создадим Series (давайте назовем это последовательностью), в которой будут записаны некоторые данные имеющие названия (индексы). И данные (data) и индексы (index) могут иметь различный тип: числа, строки, объекты.\n",
    "\n",
    "Но будьте аккуратны, индексы надо делать так, чтобы было понятно. Ниже увидим примеры разрешенных, но совершенно не понятных индексов. "
   ]
  },
  {
   "cell_type": "code",
   "execution_count": 1,
   "metadata": {
    "ExecuteTime": {
     "end_time": "2020-10-11T07:30:49.706085Z",
     "start_time": "2020-10-11T07:30:48.832035Z"
    }
   },
   "outputs": [],
   "source": [
    "import pandas as pd # подключим библиотеку\n",
    "import numpy as np"
   ]
  },
  {
   "cell_type": "code",
   "execution_count": 2,
   "metadata": {
    "ExecuteTime": {
     "end_time": "2020-10-11T07:30:49.723086Z",
     "start_time": "2020-10-11T07:30:49.707086Z"
    }
   },
   "outputs": [
    {
     "data": {
      "text/plain": [
       "2           10\n",
       "2           11\n",
       "два    [a, 12]\n",
       "2          ppp\n",
       "-2          14\n",
       "dtype: object"
      ]
     },
     "execution_count": 2,
     "metadata": {},
     "output_type": "execute_result"
    }
   ],
   "source": [
    "s = pd.Series(data=[10, \"11\", ['a',12], 'ppp', 14], # данные\n",
    "              index=[2, '2', 'два', 2, -2]) # их индексы\n",
    "s # здесь 5 ячеек "
   ]
  },
  {
   "cell_type": "markdown",
   "metadata": {
    "ExecuteTime": {
     "end_time": "2020-08-07T08:27:06.550316Z",
     "start_time": "2020-08-07T08:27:06.541316Z"
    }
   },
   "source": [
    "в этой последовательности 5 ячеек (data) и к ним можно обратиться по индексам (index), важно понять, что здесь индексы именно названия, а не номера строк. "
   ]
  },
  {
   "cell_type": "code",
   "execution_count": 3,
   "metadata": {
    "ExecuteTime": {
     "end_time": "2020-10-11T07:30:49.765089Z",
     "start_time": "2020-10-11T07:30:49.726087Z"
    }
   },
   "outputs": [
    {
     "name": "stdout",
     "output_type": "stream",
     "text": [
      "2     10\n",
      "2    ppp\n",
      "dtype: object\n",
      "11\n",
      "['a', 12]\n",
      "14\n"
     ]
    }
   ],
   "source": [
    "print(s[2]) # здесь вернется подпоследовательность элементов у которых индекс называется 2 (первая и четвертая ячейки)\n",
    "print(s['2']) # это ячейка с названием '2', это совершенно другой индекс, отличается от названия 2 (вторая ячейка)\n",
    "print(s['два']) # это ячейка с названием 'два', третья ячейка, в которой записан массив\n",
    "print(s[-2]) # это ячейка с названием -2, пятая ячейка"
   ]
  },
  {
   "cell_type": "markdown",
   "metadata": {
    "ExecuteTime": {
     "end_time": "2020-08-07T08:27:06.550316Z",
     "start_time": "2020-08-07T08:27:06.541316Z"
    }
   },
   "source": [
    "Как и в numpy можно делать срезы, в этом случае указываются номера, а не названия элементов."
   ]
  },
  {
   "cell_type": "code",
   "execution_count": 4,
   "metadata": {
    "ExecuteTime": {
     "end_time": "2020-10-11T07:30:49.794090Z",
     "start_time": "2020-10-11T07:30:49.766089Z"
    }
   },
   "outputs": [
    {
     "data": {
      "text/plain": [
       "2           11\n",
       "два    [a, 12]\n",
       "dtype: object"
      ]
     },
     "execution_count": 4,
     "metadata": {},
     "output_type": "execute_result"
    }
   ],
   "source": [
    "s[1:3] # срез, вторая и третья ячейки, здесь это номера, а не названия."
   ]
  },
  {
   "cell_type": "markdown",
   "metadata": {},
   "source": [
    "Но срезы могут быть строковыми (удивительно), тогда это именно названия. Pandas сопоставит символьные индексы числовым, найдет их в последовательности, и вернет все, что между ними, включая границы. "
   ]
  },
  {
   "cell_type": "code",
   "execution_count": 5,
   "metadata": {
    "ExecuteTime": {
     "end_time": "2020-10-11T07:30:49.830093Z",
     "start_time": "2020-10-11T07:30:49.795091Z"
    }
   },
   "outputs": [
    {
     "data": {
      "text/plain": [
       "a         10\n",
       "f         11\n",
       "c    [a, 12]\n",
       "d        ppp\n",
       "dtype: object"
      ]
     },
     "execution_count": 5,
     "metadata": {},
     "output_type": "execute_result"
    }
   ],
   "source": [
    "sites = ['site%s'% i for i in range(1,11)]\n",
    "train_df[sites] = train_df[sites].fillna(0).astype('int64')\n"
   ]
  },
  {
   "cell_type": "markdown",
   "metadata": {},
   "source": [
    "Создайте свои последовательности, обратитесь к элементам. Проверьте, что будет если при создании последовательности не указать index?  А если при строковом индексе в последовательности индексы будут повторяться? \n",
    "\n",
    "Аналогично можно создать таблицу Dataframe, в которой несколько столбцов. "
   ]
  },
  {
   "cell_type": "code",
   "execution_count": 6,
   "metadata": {
    "ExecuteTime": {
     "end_time": "2020-10-11T07:30:49.905097Z",
     "start_time": "2020-10-11T07:30:49.831093Z"
    }
   },
   "outputs": [
    {
     "data": {
      "text/html": [
       "<div>\n",
       "<style scoped>\n",
       "    .dataframe tbody tr th:only-of-type {\n",
       "        vertical-align: middle;\n",
       "    }\n",
       "\n",
       "    .dataframe tbody tr th {\n",
       "        vertical-align: top;\n",
       "    }\n",
       "\n",
       "    .dataframe thead th {\n",
       "        text-align: right;\n",
       "    }\n",
       "</style>\n",
       "<table border=\"1\" class=\"dataframe\">\n",
       "  <thead>\n",
       "    <tr style=\"text-align: right;\">\n",
       "      <th></th>\n",
       "      <th>0</th>\n",
       "      <th>1</th>\n",
       "    </tr>\n",
       "  </thead>\n",
       "  <tbody>\n",
       "    <tr>\n",
       "      <th>0</th>\n",
       "      <td>10</td>\n",
       "      <td>aaa</td>\n",
       "    </tr>\n",
       "    <tr>\n",
       "      <th>1</th>\n",
       "      <td>2           10\n",
       "2           11\n",
       "два    [a, 12]\n",
       "2...</td>\n",
       "      <td>21</td>\n",
       "    </tr>\n",
       "    <tr>\n",
       "      <th>2</th>\n",
       "      <td>30</td>\n",
       "      <td>31</td>\n",
       "    </tr>\n",
       "  </tbody>\n",
       "</table>\n",
       "</div>"
      ],
      "text/plain": [
       "                                                   0    1\n",
       "0                                                 10  aaa\n",
       "1  2           10\n",
       "2           11\n",
       "два    [a, 12]\n",
       "2...   21\n",
       "2                                                 30   31"
      ]
     },
     "execution_count": 6,
     "metadata": {},
     "output_type": "execute_result"
    }
   ],
   "source": [
    "df = pd.DataFrame([[10, 'aaa'], [s, 21], [30, 31]])\n",
    "df"
   ]
  },
  {
   "cell_type": "markdown",
   "metadata": {},
   "source": [
    "здесь два столбца, три строки, названия их сделаны по умолчанию, в одну ячейку мы записали последовательность s. \n",
    "Столбцы (columns) и строки (index) можно назвать.\n"
   ]
  },
  {
   "cell_type": "code",
   "execution_count": 7,
   "metadata": {
    "ExecuteTime": {
     "end_time": "2020-10-11T07:30:49.916097Z",
     "start_time": "2020-10-11T07:30:49.907097Z"
    }
   },
   "outputs": [
    {
     "data": {
      "text/html": [
       "<div>\n",
       "<style scoped>\n",
       "    .dataframe tbody tr th:only-of-type {\n",
       "        vertical-align: middle;\n",
       "    }\n",
       "\n",
       "    .dataframe tbody tr th {\n",
       "        vertical-align: top;\n",
       "    }\n",
       "\n",
       "    .dataframe thead th {\n",
       "        text-align: right;\n",
       "    }\n",
       "</style>\n",
       "<table border=\"1\" class=\"dataframe\">\n",
       "  <thead>\n",
       "    <tr style=\"text-align: right;\">\n",
       "      <th></th>\n",
       "      <th>невторой</th>\n",
       "      <th>2</th>\n",
       "    </tr>\n",
       "  </thead>\n",
       "  <tbody>\n",
       "    <tr>\n",
       "      <th>1</th>\n",
       "      <td>10</td>\n",
       "      <td>aaa</td>\n",
       "    </tr>\n",
       "    <tr>\n",
       "      <th>1</th>\n",
       "      <td>2           10\n",
       "2           11\n",
       "два    [a, 12]\n",
       "2...</td>\n",
       "      <td>21</td>\n",
       "    </tr>\n",
       "    <tr>\n",
       "      <th>один</th>\n",
       "      <td>30</td>\n",
       "      <td>31</td>\n",
       "    </tr>\n",
       "  </tbody>\n",
       "</table>\n",
       "</div>"
      ],
      "text/plain": [
       "                                               невторой    2\n",
       "1                                                    10  aaa\n",
       "1     2           10\n",
       "2           11\n",
       "два    [a, 12]\n",
       "2...   21\n",
       "один                                                 30   31"
      ]
     },
     "execution_count": 7,
     "metadata": {},
     "output_type": "execute_result"
    }
   ],
   "source": [
    "df = pd.DataFrame([[10, 'aaa'], [s, 21], [30, 31]],\n",
    "                  columns=['невторой',2],\n",
    "                  index=[1,'1','один'])\n",
    "df"
   ]
  },
  {
   "cell_type": "markdown",
   "metadata": {
    "ExecuteTime": {
     "end_time": "2020-08-07T09:10:47.781242Z",
     "start_time": "2020-08-07T09:10:47.775242Z"
    }
   },
   "source": [
    "При индексации по названию сначала указываем название столбца - вернется весь столбец в виде последовательности - потом для нее указываем название строки."
   ]
  },
  {
   "cell_type": "code",
   "execution_count": 8,
   "metadata": {
    "ExecuteTime": {
     "end_time": "2020-10-11T07:30:49.949099Z",
     "start_time": "2020-10-11T07:30:49.918098Z"
    }
   },
   "outputs": [
    {
     "data": {
      "text/plain": [
       "30"
      ]
     },
     "execution_count": 8,
     "metadata": {},
     "output_type": "execute_result"
    }
   ],
   "source": [
    "s1=df['невторой']['один']\n",
    "s1"
   ]
  },
  {
   "cell_type": "markdown",
   "metadata": {},
   "source": [
    "Названия столбцов содержатся в атрибуте columns и их можно изменять.\n",
    "\n",
    "В некоторых случаях к столбцу можно обратиться как к атрибуту через знак \".\" Но это работает не всегда.\n",
    "Попробуйте назвать столбец \"столбец 1\" или 'index' или \"1\" и посмотрите, что получится. "
   ]
  },
  {
   "cell_type": "code",
   "execution_count": 9,
   "metadata": {
    "ExecuteTime": {
     "end_time": "2020-10-11T07:30:49.987102Z",
     "start_time": "2020-10-11T07:30:49.950099Z"
    }
   },
   "outputs": [
    {
     "data": {
      "text/html": [
       "<div>\n",
       "<style scoped>\n",
       "    .dataframe tbody tr th:only-of-type {\n",
       "        vertical-align: middle;\n",
       "    }\n",
       "\n",
       "    .dataframe tbody tr th {\n",
       "        vertical-align: top;\n",
       "    }\n",
       "\n",
       "    .dataframe thead th {\n",
       "        text-align: right;\n",
       "    }\n",
       "</style>\n",
       "<table border=\"1\" class=\"dataframe\">\n",
       "  <thead>\n",
       "    <tr style=\"text-align: right;\">\n",
       "      <th></th>\n",
       "      <th>невторой</th>\n",
       "      <th>second</th>\n",
       "    </tr>\n",
       "  </thead>\n",
       "  <tbody>\n",
       "    <tr>\n",
       "      <th>1</th>\n",
       "      <td>10</td>\n",
       "      <td>aaa</td>\n",
       "    </tr>\n",
       "    <tr>\n",
       "      <th>1</th>\n",
       "      <td>2           10\n",
       "2           11\n",
       "два    [a, 12]\n",
       "2...</td>\n",
       "      <td>21</td>\n",
       "    </tr>\n",
       "    <tr>\n",
       "      <th>один</th>\n",
       "      <td>30</td>\n",
       "      <td>31</td>\n",
       "    </tr>\n",
       "  </tbody>\n",
       "</table>\n",
       "</div>"
      ],
      "text/plain": [
       "                                               невторой second\n",
       "1                                                    10    aaa\n",
       "1     2           10\n",
       "2           11\n",
       "два    [a, 12]\n",
       "2...     21\n",
       "один                                                 30     31"
      ]
     },
     "execution_count": 9,
     "metadata": {},
     "output_type": "execute_result"
    }
   ],
   "source": [
    "# df.columns=['столбец 1',2] # изменяем названия столбцов\n",
    "df.columns=['невторой','second']\n",
    "# df.columns=['index','second']\n",
    "df"
   ]
  },
  {
   "cell_type": "code",
   "execution_count": 10,
   "metadata": {
    "ExecuteTime": {
     "end_time": "2020-10-11T07:30:50.018103Z",
     "start_time": "2020-10-11T07:30:49.988102Z"
    }
   },
   "outputs": [
    {
     "data": {
      "text/plain": [
       "1                                                      10\n",
       "1       2           10\n",
       "2           11\n",
       "два    [a, 12]\n",
       "2...\n",
       "один                                                   30\n",
       "Name: невторой, dtype: object"
      ]
     },
     "execution_count": 10,
     "metadata": {},
     "output_type": "execute_result"
    }
   ],
   "source": [
    "train_df.info()\n"
   ]
  },
  {
   "cell_type": "code",
   "execution_count": 11,
   "metadata": {
    "ExecuteTime": {
     "end_time": "2020-10-11T07:30:50.048105Z",
     "start_time": "2020-10-11T07:30:50.019103Z"
    }
   },
   "outputs": [
    {
     "ename": "SyntaxError",
     "evalue": "invalid syntax (<ipython-input-11-3fdd4734ef68>, line 2)",
     "output_type": "error",
     "traceback": [
      "\u001b[1;36m  File \u001b[1;32m\"<ipython-input-11-3fdd4734ef68>\"\u001b[1;36m, line \u001b[1;32m2\u001b[0m\n\u001b[1;33m    df.столбец 1\u001b[0m\n\u001b[1;37m               ^\u001b[0m\n\u001b[1;31mSyntaxError\u001b[0m\u001b[1;31m:\u001b[0m invalid syntax\n"
     ]
    }
   ],
   "source": [
    "#  а вот с такими названиями работать не будет \n",
    "df.столбец 1  \n",
    "df.'столбец 1'"
   ]
  },
  {
   "cell_type": "code",
   "execution_count": 13,
   "metadata": {
    "ExecuteTime": {
     "end_time": "2020-10-11T07:32:41.206463Z",
     "start_time": "2020-10-11T07:32:41.199463Z"
    }
   },
   "outputs": [
    {
     "data": {
      "text/plain": [
       "Index([1, '1', 'один'], dtype='object')"
      ]
     },
     "execution_count": 13,
     "metadata": {},
     "output_type": "execute_result"
    }
   ],
   "source": [
    "# так ошибку не выдает, но выдает что-то не то. Это потому, что index уже определен как атрибут\n",
    "df.index"
   ]
  },
  {
   "cell_type": "markdown",
   "metadata": {
    "ExecuteTime": {
     "end_time": "2020-08-07T09:37:01.484253Z",
     "start_time": "2020-08-07T09:37:01.479252Z"
    }
   },
   "source": [
    "Атрибут index возвращает индекс (названия строк)\n",
    "\n",
    "Атрибут columns возвращает названия столбцов (для таблиц)\n",
    "\n",
    "Атрибут values возвращает значения ячеек как массив numpy"
   ]
  },
  {
   "cell_type": "code",
   "execution_count": 14,
   "metadata": {
    "ExecuteTime": {
     "end_time": "2020-10-11T07:32:50.865015Z",
     "start_time": "2020-10-11T07:32:50.858015Z"
    }
   },
   "outputs": [
    {
     "name": "stdout",
     "output_type": "stream",
     "text": [
      "Index([1, '1', 'один'], dtype='object')\n",
      "Index(['невторой', 'second'], dtype='object')\n",
      "[[10 'aaa']\n",
      " [2           10\n",
      "2           11\n",
      "два    [a, 12]\n",
      "2          ppp\n",
      "-2          14\n",
      "dtype: object\n",
      "  21]\n",
      " [30 31]]\n",
      "<class 'numpy.ndarray'>\n"
     ]
    }
   ],
   "source": [
    "print(df.index)\n",
    "print(df.columns)\n",
    "print(df.values)\n",
    "print(type(df.values))"
   ]
  },
  {
   "cell_type": "markdown",
   "metadata": {},
   "source": [
    "Срез выполняется по строкам"
   ]
  },
  {
   "cell_type": "code",
   "execution_count": 15,
   "metadata": {
    "ExecuteTime": {
     "end_time": "2020-10-11T07:32:54.364215Z",
     "start_time": "2020-10-11T07:32:54.352215Z"
    }
   },
   "outputs": [
    {
     "data": {
      "text/html": [
       "<div>\n",
       "<style scoped>\n",
       "    .dataframe tbody tr th:only-of-type {\n",
       "        vertical-align: middle;\n",
       "    }\n",
       "\n",
       "    .dataframe tbody tr th {\n",
       "        vertical-align: top;\n",
       "    }\n",
       "\n",
       "    .dataframe thead th {\n",
       "        text-align: right;\n",
       "    }\n",
       "</style>\n",
       "<table border=\"1\" class=\"dataframe\">\n",
       "  <thead>\n",
       "    <tr style=\"text-align: right;\">\n",
       "      <th></th>\n",
       "      <th>невторой</th>\n",
       "      <th>second</th>\n",
       "    </tr>\n",
       "  </thead>\n",
       "  <tbody>\n",
       "    <tr>\n",
       "      <th>1</th>\n",
       "      <td>10</td>\n",
       "      <td>aaa</td>\n",
       "    </tr>\n",
       "    <tr>\n",
       "      <th>1</th>\n",
       "      <td>2           10\n",
       "2           11\n",
       "два    [a, 12]\n",
       "2...</td>\n",
       "      <td>21</td>\n",
       "    </tr>\n",
       "  </tbody>\n",
       "</table>\n",
       "</div>"
      ],
      "text/plain": [
       "                                            невторой second\n",
       "1                                                 10    aaa\n",
       "1  2           10\n",
       "2           11\n",
       "два    [a, 12]\n",
       "2...     21"
      ]
     },
     "execution_count": 15,
     "metadata": {},
     "output_type": "execute_result"
    }
   ],
   "source": [
    "from sklearn.feature_extraction.text import CountVectorizer\n",
    "import csv\n"
   ]
  },
  {
   "cell_type": "markdown",
   "metadata": {},
   "source": [
    "Если нужно обращаться по номеру (числовому индексу), используем атрибут iloc, как если бы это был массив numpy. "
   ]
  },
  {
   "cell_type": "code",
   "execution_count": 16,
   "metadata": {
    "ExecuteTime": {
     "end_time": "2020-10-11T07:32:56.262324Z",
     "start_time": "2020-10-11T07:32:56.257324Z"
    }
   },
   "outputs": [
    {
     "data": {
      "text/plain": [
       "невторой    2           10\n",
       "2           11\n",
       "два    [a, 12]\n",
       "2...\n",
       "second                                                     21\n",
       "Name: 1, dtype: object"
      ]
     },
     "execution_count": 16,
     "metadata": {},
     "output_type": "execute_result"
    }
   ],
   "source": [
    "df.iloc[1,1]\n",
    "df.iloc[1,:]"
   ]
  },
  {
   "cell_type": "markdown",
   "metadata": {},
   "source": [
    "Индексация может быть логической, истинные элементы (True) отбираются, ложные (False) отбрасываются. "
   ]
  },
  {
   "cell_type": "code",
   "execution_count": 17,
   "metadata": {
    "ExecuteTime": {
     "end_time": "2020-10-11T07:33:00.437563Z",
     "start_time": "2020-10-11T07:33:00.386560Z"
    }
   },
   "outputs": [
    {
     "name": "stdout",
     "output_type": "stream",
     "text": [
      "0   -1.085631\n",
      "1    0.997345\n",
      "2    0.282978\n",
      "3   -1.506295\n",
      "4   -0.578600\n",
      "5    1.651437\n",
      "6   -2.426679\n",
      "7   -0.428913\n",
      "8    1.265936\n",
      "9   -0.866740\n",
      "dtype: float64\n",
      "0    False\n",
      "1     True\n",
      "2     True\n",
      "3    False\n",
      "4    False\n",
      "5     True\n",
      "6    False\n",
      "7    False\n",
      "8     True\n",
      "9    False\n",
      "dtype: bool\n",
      "1    0.997345\n",
      "2    0.282978\n",
      "5    1.651437\n",
      "8    1.265936\n",
      "dtype: float64\n"
     ]
    }
   ],
   "source": [
    "np.random.seed(123)\n",
    "s = pd.Series(np.random.normal(size=10))\n",
    "print(s)\n",
    "ind=s>0\n",
    "print(ind)\n",
    "r=s[ind]\n",
    "print(r)"
   ]
  },
  {
   "cell_type": "markdown",
   "metadata": {},
   "source": [
    "Другие способы создания и индексации смотри в документации."
   ]
  },
  {
   "cell_type": "markdown",
   "metadata": {},
   "source": [
    "## Загрузка из файла"
   ]
  },
  {
   "cell_type": "markdown",
   "metadata": {},
   "source": [
    "Если б таблички нужно было создавать вручную, это было бы слишком утомительно, к счастью, pandas обладает богатыми возможностями по загрузке файлов таблиц разного формата, \\*.csv, \\*.xls и других, как с диска так и из Интернет.\n",
    "\n",
    "Команда [`read_csv()`](https://pandas.pydata.org/pandas-docs/stable/reference/api/pandas.read_csv.html) позволяет загрузить файлы csv с заданного файла на диске или адреса в Интернет (первый обязательный аргумент `filepath_or_buffer`). Это текстовые файлы, в которых столбцы таблиц разделяются некоторым символом (запятая, точка с запятой или другие), который можно указать команде (аргумент `sep`), возвращается объект типа Dataframe. У команды большие возможности по загрузке данных, можно ограничить количество загружаемых строк (аргумент `nrows`), можно указать загружаемые столбцы (аргумент `usecols`), указать, что делать со строками с пропущенными значениями и другие. \n",
    "\n",
    "Давайте загрузим табличку о 500 лучших компаниях мира с адреса https://datahub.io/core/s-and-p-500-companies-financials#resource-constituents-financials  , с разделителями столбцов в виде запятой. В нашем примере по умолчанию названия столбцов будут взяты из первой строки файла, в которой они и указаны. _(Если в силу каких-то причин из Интернета не загружается, то исправьте url на file, чтобы загрузить уже скаченную копию таблицы.)_  "
   ]
  },
  {
   "cell_type": "code",
   "execution_count": 18,
   "metadata": {
    "ExecuteTime": {
     "end_time": "2020-10-11T07:33:06.830929Z",
     "start_time": "2020-10-11T07:33:06.799927Z"
    }
   },
   "outputs": [
    {
     "data": {
      "text/html": [
       "<div>\n",
       "<style scoped>\n",
       "    .dataframe tbody tr th:only-of-type {\n",
       "        vertical-align: middle;\n",
       "    }\n",
       "\n",
       "    .dataframe tbody tr th {\n",
       "        vertical-align: top;\n",
       "    }\n",
       "\n",
       "    .dataframe thead th {\n",
       "        text-align: right;\n",
       "    }\n",
       "</style>\n",
       "<table border=\"1\" class=\"dataframe\">\n",
       "  <thead>\n",
       "    <tr style=\"text-align: right;\">\n",
       "      <th></th>\n",
       "      <th>Symbol</th>\n",
       "      <th>Name</th>\n",
       "      <th>Sector</th>\n",
       "      <th>Price</th>\n",
       "      <th>Price/Earnings</th>\n",
       "      <th>Dividend Yield</th>\n",
       "      <th>Earnings/Share</th>\n",
       "      <th>52 Week Low</th>\n",
       "      <th>52 Week High</th>\n",
       "      <th>Market Cap</th>\n",
       "      <th>EBITDA</th>\n",
       "      <th>Price/Sales</th>\n",
       "      <th>Price/Book</th>\n",
       "      <th>SEC Filings</th>\n",
       "    </tr>\n",
       "  </thead>\n",
       "  <tbody>\n",
       "    <tr>\n",
       "      <th>0</th>\n",
       "      <td>MMM</td>\n",
       "      <td>3M Company</td>\n",
       "      <td>Industrials</td>\n",
       "      <td>222.89</td>\n",
       "      <td>24.31</td>\n",
       "      <td>2.332862</td>\n",
       "      <td>7.92</td>\n",
       "      <td>259.77</td>\n",
       "      <td>175.490</td>\n",
       "      <td>138721055226</td>\n",
       "      <td>9.048000e+09</td>\n",
       "      <td>4.390271</td>\n",
       "      <td>11.34</td>\n",
       "      <td>http://www.sec.gov/cgi-bin/browse-edgar?action...</td>\n",
       "    </tr>\n",
       "    <tr>\n",
       "      <th>1</th>\n",
       "      <td>AOS</td>\n",
       "      <td>A.O. Smith Corp</td>\n",
       "      <td>Industrials</td>\n",
       "      <td>60.24</td>\n",
       "      <td>27.76</td>\n",
       "      <td>1.147959</td>\n",
       "      <td>1.70</td>\n",
       "      <td>68.39</td>\n",
       "      <td>48.925</td>\n",
       "      <td>10783419933</td>\n",
       "      <td>6.010000e+08</td>\n",
       "      <td>3.575483</td>\n",
       "      <td>6.35</td>\n",
       "      <td>http://www.sec.gov/cgi-bin/browse-edgar?action...</td>\n",
       "    </tr>\n",
       "    <tr>\n",
       "      <th>2</th>\n",
       "      <td>ABT</td>\n",
       "      <td>Abbott Laboratories</td>\n",
       "      <td>Health Care</td>\n",
       "      <td>56.27</td>\n",
       "      <td>22.51</td>\n",
       "      <td>1.908982</td>\n",
       "      <td>0.26</td>\n",
       "      <td>64.60</td>\n",
       "      <td>42.280</td>\n",
       "      <td>102121042306</td>\n",
       "      <td>5.744000e+09</td>\n",
       "      <td>3.740480</td>\n",
       "      <td>3.19</td>\n",
       "      <td>http://www.sec.gov/cgi-bin/browse-edgar?action...</td>\n",
       "    </tr>\n",
       "    <tr>\n",
       "      <th>3</th>\n",
       "      <td>ABBV</td>\n",
       "      <td>AbbVie Inc.</td>\n",
       "      <td>Health Care</td>\n",
       "      <td>108.48</td>\n",
       "      <td>19.41</td>\n",
       "      <td>2.499560</td>\n",
       "      <td>3.29</td>\n",
       "      <td>125.86</td>\n",
       "      <td>60.050</td>\n",
       "      <td>181386347059</td>\n",
       "      <td>1.031000e+10</td>\n",
       "      <td>6.291571</td>\n",
       "      <td>26.14</td>\n",
       "      <td>http://www.sec.gov/cgi-bin/browse-edgar?action...</td>\n",
       "    </tr>\n",
       "    <tr>\n",
       "      <th>4</th>\n",
       "      <td>ACN</td>\n",
       "      <td>Accenture plc</td>\n",
       "      <td>Information Technology</td>\n",
       "      <td>150.51</td>\n",
       "      <td>25.47</td>\n",
       "      <td>1.714470</td>\n",
       "      <td>5.44</td>\n",
       "      <td>162.60</td>\n",
       "      <td>114.820</td>\n",
       "      <td>98765855553</td>\n",
       "      <td>5.643228e+09</td>\n",
       "      <td>2.604117</td>\n",
       "      <td>10.62</td>\n",
       "      <td>http://www.sec.gov/cgi-bin/browse-edgar?action...</td>\n",
       "    </tr>\n",
       "    <tr>\n",
       "      <th>...</th>\n",
       "      <td>...</td>\n",
       "      <td>...</td>\n",
       "      <td>...</td>\n",
       "      <td>...</td>\n",
       "      <td>...</td>\n",
       "      <td>...</td>\n",
       "      <td>...</td>\n",
       "      <td>...</td>\n",
       "      <td>...</td>\n",
       "      <td>...</td>\n",
       "      <td>...</td>\n",
       "      <td>...</td>\n",
       "      <td>...</td>\n",
       "      <td>...</td>\n",
       "    </tr>\n",
       "    <tr>\n",
       "      <th>500</th>\n",
       "      <td>XYL</td>\n",
       "      <td>Xylem Inc.</td>\n",
       "      <td>Industrials</td>\n",
       "      <td>70.24</td>\n",
       "      <td>30.94</td>\n",
       "      <td>1.170079</td>\n",
       "      <td>1.83</td>\n",
       "      <td>76.81</td>\n",
       "      <td>46.860</td>\n",
       "      <td>12915021000</td>\n",
       "      <td>7.220000e+08</td>\n",
       "      <td>2.726209</td>\n",
       "      <td>5.31</td>\n",
       "      <td>http://www.sec.gov/cgi-bin/browse-edgar?action...</td>\n",
       "    </tr>\n",
       "    <tr>\n",
       "      <th>501</th>\n",
       "      <td>YUM</td>\n",
       "      <td>Yum! Brands Inc</td>\n",
       "      <td>Consumer Discretionary</td>\n",
       "      <td>76.30</td>\n",
       "      <td>27.25</td>\n",
       "      <td>1.797080</td>\n",
       "      <td>4.07</td>\n",
       "      <td>86.93</td>\n",
       "      <td>62.850</td>\n",
       "      <td>27003303098</td>\n",
       "      <td>2.289000e+09</td>\n",
       "      <td>6.313636</td>\n",
       "      <td>212.08</td>\n",
       "      <td>http://www.sec.gov/cgi-bin/browse-edgar?action...</td>\n",
       "    </tr>\n",
       "    <tr>\n",
       "      <th>502</th>\n",
       "      <td>ZBH</td>\n",
       "      <td>Zimmer Biomet Holdings</td>\n",
       "      <td>Health Care</td>\n",
       "      <td>115.53</td>\n",
       "      <td>14.32</td>\n",
       "      <td>0.794834</td>\n",
       "      <td>9.01</td>\n",
       "      <td>133.49</td>\n",
       "      <td>108.170</td>\n",
       "      <td>24454698119</td>\n",
       "      <td>2.007400e+09</td>\n",
       "      <td>3.164895</td>\n",
       "      <td>2.39</td>\n",
       "      <td>http://www.sec.gov/cgi-bin/browse-edgar?action...</td>\n",
       "    </tr>\n",
       "    <tr>\n",
       "      <th>503</th>\n",
       "      <td>ZION</td>\n",
       "      <td>Zions Bancorp</td>\n",
       "      <td>Financials</td>\n",
       "      <td>50.71</td>\n",
       "      <td>17.73</td>\n",
       "      <td>1.480933</td>\n",
       "      <td>2.60</td>\n",
       "      <td>55.61</td>\n",
       "      <td>38.430</td>\n",
       "      <td>10670678640</td>\n",
       "      <td>0.000000e+00</td>\n",
       "      <td>3.794579</td>\n",
       "      <td>1.42</td>\n",
       "      <td>http://www.sec.gov/cgi-bin/browse-edgar?action...</td>\n",
       "    </tr>\n",
       "    <tr>\n",
       "      <th>504</th>\n",
       "      <td>ZTS</td>\n",
       "      <td>Zoetis</td>\n",
       "      <td>Health Care</td>\n",
       "      <td>71.51</td>\n",
       "      <td>32.80</td>\n",
       "      <td>0.682372</td>\n",
       "      <td>1.65</td>\n",
       "      <td>80.13</td>\n",
       "      <td>52.000</td>\n",
       "      <td>35991109776</td>\n",
       "      <td>1.734000e+09</td>\n",
       "      <td>9.280896</td>\n",
       "      <td>18.09</td>\n",
       "      <td>http://www.sec.gov/cgi-bin/browse-edgar?action...</td>\n",
       "    </tr>\n",
       "  </tbody>\n",
       "</table>\n",
       "<p>505 rows × 14 columns</p>\n",
       "</div>"
      ],
      "text/plain": [
       "    Symbol                    Name                  Sector   Price  \\\n",
       "0      MMM              3M Company             Industrials  222.89   \n",
       "1      AOS         A.O. Smith Corp             Industrials   60.24   \n",
       "2      ABT     Abbott Laboratories             Health Care   56.27   \n",
       "3     ABBV             AbbVie Inc.             Health Care  108.48   \n",
       "4      ACN           Accenture plc  Information Technology  150.51   \n",
       "..     ...                     ...                     ...     ...   \n",
       "500    XYL              Xylem Inc.             Industrials   70.24   \n",
       "501    YUM         Yum! Brands Inc  Consumer Discretionary   76.30   \n",
       "502    ZBH  Zimmer Biomet Holdings             Health Care  115.53   \n",
       "503   ZION           Zions Bancorp              Financials   50.71   \n",
       "504    ZTS                  Zoetis             Health Care   71.51   \n",
       "\n",
       "     Price/Earnings  Dividend Yield  Earnings/Share  52 Week Low  \\\n",
       "0             24.31        2.332862            7.92       259.77   \n",
       "1             27.76        1.147959            1.70        68.39   \n",
       "2             22.51        1.908982            0.26        64.60   \n",
       "3             19.41        2.499560            3.29       125.86   \n",
       "4             25.47        1.714470            5.44       162.60   \n",
       "..              ...             ...             ...          ...   \n",
       "500           30.94        1.170079            1.83        76.81   \n",
       "501           27.25        1.797080            4.07        86.93   \n",
       "502           14.32        0.794834            9.01       133.49   \n",
       "503           17.73        1.480933            2.60        55.61   \n",
       "504           32.80        0.682372            1.65        80.13   \n",
       "\n",
       "     52 Week High    Market Cap        EBITDA  Price/Sales  Price/Book  \\\n",
       "0         175.490  138721055226  9.048000e+09     4.390271       11.34   \n",
       "1          48.925   10783419933  6.010000e+08     3.575483        6.35   \n",
       "2          42.280  102121042306  5.744000e+09     3.740480        3.19   \n",
       "3          60.050  181386347059  1.031000e+10     6.291571       26.14   \n",
       "4         114.820   98765855553  5.643228e+09     2.604117       10.62   \n",
       "..            ...           ...           ...          ...         ...   \n",
       "500        46.860   12915021000  7.220000e+08     2.726209        5.31   \n",
       "501        62.850   27003303098  2.289000e+09     6.313636      212.08   \n",
       "502       108.170   24454698119  2.007400e+09     3.164895        2.39   \n",
       "503        38.430   10670678640  0.000000e+00     3.794579        1.42   \n",
       "504        52.000   35991109776  1.734000e+09     9.280896       18.09   \n",
       "\n",
       "                                           SEC Filings  \n",
       "0    http://www.sec.gov/cgi-bin/browse-edgar?action...  \n",
       "1    http://www.sec.gov/cgi-bin/browse-edgar?action...  \n",
       "2    http://www.sec.gov/cgi-bin/browse-edgar?action...  \n",
       "3    http://www.sec.gov/cgi-bin/browse-edgar?action...  \n",
       "4    http://www.sec.gov/cgi-bin/browse-edgar?action...  \n",
       "..                                                 ...  \n",
       "500  http://www.sec.gov/cgi-bin/browse-edgar?action...  \n",
       "501  http://www.sec.gov/cgi-bin/browse-edgar?action...  \n",
       "502  http://www.sec.gov/cgi-bin/browse-edgar?action...  \n",
       "503  http://www.sec.gov/cgi-bin/browse-edgar?action...  \n",
       "504  http://www.sec.gov/cgi-bin/browse-edgar?action...  \n",
       "\n",
       "[505 rows x 14 columns]"
      ]
     },
     "execution_count": 18,
     "metadata": {},
     "output_type": "execute_result"
    }
   ],
   "source": [
    "url = 'https://datahub.io/core/s-and-p-500-companies-financials/r/constituents-financials.csv'\n",
    "file='constituents-financials_csv.csv'\n",
    "data = pd.read_csv(file, sep=',')\n",
    "data"
   ]
  },
  {
   "cell_type": "code",
   "execution_count": 19,
   "metadata": {
    "ExecuteTime": {
     "end_time": "2020-10-11T07:33:08.821042Z",
     "start_time": "2020-10-11T07:33:08.812042Z"
    }
   },
   "outputs": [
    {
     "data": {
      "text/plain": [
       "(505, 14)"
      ]
     },
     "execution_count": 19,
     "metadata": {},
     "output_type": "execute_result"
    }
   ],
   "source": [
    "data.shape # сколько строк и столбцов?"
   ]
  },
  {
   "cell_type": "code",
   "execution_count": 20,
   "metadata": {
    "ExecuteTime": {
     "end_time": "2020-10-11T07:33:09.456079Z",
     "start_time": "2020-10-11T07:33:09.419077Z"
    }
   },
   "outputs": [
    {
     "data": {
      "text/html": [
       "<div>\n",
       "<style scoped>\n",
       "    .dataframe tbody tr th:only-of-type {\n",
       "        vertical-align: middle;\n",
       "    }\n",
       "\n",
       "    .dataframe tbody tr th {\n",
       "        vertical-align: top;\n",
       "    }\n",
       "\n",
       "    .dataframe thead th {\n",
       "        text-align: right;\n",
       "    }\n",
       "</style>\n",
       "<table border=\"1\" class=\"dataframe\">\n",
       "  <thead>\n",
       "    <tr style=\"text-align: right;\">\n",
       "      <th></th>\n",
       "      <th>Symbol</th>\n",
       "      <th>Name</th>\n",
       "      <th>Sector</th>\n",
       "      <th>Price</th>\n",
       "      <th>Price/Earnings</th>\n",
       "      <th>Dividend Yield</th>\n",
       "      <th>Earnings/Share</th>\n",
       "      <th>52 Week Low</th>\n",
       "      <th>52 Week High</th>\n",
       "      <th>Market Cap</th>\n",
       "      <th>EBITDA</th>\n",
       "      <th>Price/Sales</th>\n",
       "      <th>Price/Book</th>\n",
       "      <th>SEC Filings</th>\n",
       "    </tr>\n",
       "  </thead>\n",
       "  <tbody>\n",
       "    <tr>\n",
       "      <th>0</th>\n",
       "      <td>MMM</td>\n",
       "      <td>3M Company</td>\n",
       "      <td>Industrials</td>\n",
       "      <td>222.89</td>\n",
       "      <td>24.31</td>\n",
       "      <td>2.332862</td>\n",
       "      <td>7.92</td>\n",
       "      <td>259.77</td>\n",
       "      <td>175.490</td>\n",
       "      <td>138721055226</td>\n",
       "      <td>9.048000e+09</td>\n",
       "      <td>4.390271</td>\n",
       "      <td>11.34</td>\n",
       "      <td>http://www.sec.gov/cgi-bin/browse-edgar?action...</td>\n",
       "    </tr>\n",
       "    <tr>\n",
       "      <th>1</th>\n",
       "      <td>AOS</td>\n",
       "      <td>A.O. Smith Corp</td>\n",
       "      <td>Industrials</td>\n",
       "      <td>60.24</td>\n",
       "      <td>27.76</td>\n",
       "      <td>1.147959</td>\n",
       "      <td>1.70</td>\n",
       "      <td>68.39</td>\n",
       "      <td>48.925</td>\n",
       "      <td>10783419933</td>\n",
       "      <td>6.010000e+08</td>\n",
       "      <td>3.575483</td>\n",
       "      <td>6.35</td>\n",
       "      <td>http://www.sec.gov/cgi-bin/browse-edgar?action...</td>\n",
       "    </tr>\n",
       "    <tr>\n",
       "      <th>2</th>\n",
       "      <td>ABT</td>\n",
       "      <td>Abbott Laboratories</td>\n",
       "      <td>Health Care</td>\n",
       "      <td>56.27</td>\n",
       "      <td>22.51</td>\n",
       "      <td>1.908982</td>\n",
       "      <td>0.26</td>\n",
       "      <td>64.60</td>\n",
       "      <td>42.280</td>\n",
       "      <td>102121042306</td>\n",
       "      <td>5.744000e+09</td>\n",
       "      <td>3.740480</td>\n",
       "      <td>3.19</td>\n",
       "      <td>http://www.sec.gov/cgi-bin/browse-edgar?action...</td>\n",
       "    </tr>\n",
       "    <tr>\n",
       "      <th>3</th>\n",
       "      <td>ABBV</td>\n",
       "      <td>AbbVie Inc.</td>\n",
       "      <td>Health Care</td>\n",
       "      <td>108.48</td>\n",
       "      <td>19.41</td>\n",
       "      <td>2.499560</td>\n",
       "      <td>3.29</td>\n",
       "      <td>125.86</td>\n",
       "      <td>60.050</td>\n",
       "      <td>181386347059</td>\n",
       "      <td>1.031000e+10</td>\n",
       "      <td>6.291571</td>\n",
       "      <td>26.14</td>\n",
       "      <td>http://www.sec.gov/cgi-bin/browse-edgar?action...</td>\n",
       "    </tr>\n",
       "    <tr>\n",
       "      <th>4</th>\n",
       "      <td>ACN</td>\n",
       "      <td>Accenture plc</td>\n",
       "      <td>Information Technology</td>\n",
       "      <td>150.51</td>\n",
       "      <td>25.47</td>\n",
       "      <td>1.714470</td>\n",
       "      <td>5.44</td>\n",
       "      <td>162.60</td>\n",
       "      <td>114.820</td>\n",
       "      <td>98765855553</td>\n",
       "      <td>5.643228e+09</td>\n",
       "      <td>2.604117</td>\n",
       "      <td>10.62</td>\n",
       "      <td>http://www.sec.gov/cgi-bin/browse-edgar?action...</td>\n",
       "    </tr>\n",
       "  </tbody>\n",
       "</table>\n",
       "</div>"
      ],
      "text/plain": [
       "  Symbol                 Name                  Sector   Price  Price/Earnings  \\\n",
       "0    MMM           3M Company             Industrials  222.89           24.31   \n",
       "1    AOS      A.O. Smith Corp             Industrials   60.24           27.76   \n",
       "2    ABT  Abbott Laboratories             Health Care   56.27           22.51   \n",
       "3   ABBV          AbbVie Inc.             Health Care  108.48           19.41   \n",
       "4    ACN        Accenture plc  Information Technology  150.51           25.47   \n",
       "\n",
       "   Dividend Yield  Earnings/Share  52 Week Low  52 Week High    Market Cap  \\\n",
       "0        2.332862            7.92       259.77       175.490  138721055226   \n",
       "1        1.147959            1.70        68.39        48.925   10783419933   \n",
       "2        1.908982            0.26        64.60        42.280  102121042306   \n",
       "3        2.499560            3.29       125.86        60.050  181386347059   \n",
       "4        1.714470            5.44       162.60       114.820   98765855553   \n",
       "\n",
       "         EBITDA  Price/Sales  Price/Book  \\\n",
       "0  9.048000e+09     4.390271       11.34   \n",
       "1  6.010000e+08     3.575483        6.35   \n",
       "2  5.744000e+09     3.740480        3.19   \n",
       "3  1.031000e+10     6.291571       26.14   \n",
       "4  5.643228e+09     2.604117       10.62   \n",
       "\n",
       "                                         SEC Filings  \n",
       "0  http://www.sec.gov/cgi-bin/browse-edgar?action...  \n",
       "1  http://www.sec.gov/cgi-bin/browse-edgar?action...  \n",
       "2  http://www.sec.gov/cgi-bin/browse-edgar?action...  \n",
       "3  http://www.sec.gov/cgi-bin/browse-edgar?action...  \n",
       "4  http://www.sec.gov/cgi-bin/browse-edgar?action...  "
      ]
     },
     "execution_count": 20,
     "metadata": {},
     "output_type": "execute_result"
    }
   ],
   "source": [
    "# выводит первые несколько строк\n",
    "data.head()"
   ]
  },
  {
   "cell_type": "code",
   "execution_count": 21,
   "metadata": {
    "ExecuteTime": {
     "end_time": "2020-10-11T07:33:10.865159Z",
     "start_time": "2020-10-11T07:33:10.854159Z"
    }
   },
   "outputs": [
    {
     "data": {
      "text/plain": [
       "Index(['Symbol', 'Name', 'Sector', 'Price', 'Price/Earnings', 'Dividend Yield',\n",
       "       'Earnings/Share', '52 Week Low', '52 Week High', 'Market Cap', 'EBITDA',\n",
       "       'Price/Sales', 'Price/Book', 'SEC Filings'],\n",
       "      dtype='object')"
      ]
     },
     "execution_count": 21,
     "metadata": {},
     "output_type": "execute_result"
    }
   ],
   "source": [
    "full_sites = train_df[sites]\n",
    "full_sites.head()\n"
   ]
  },
  {
   "cell_type": "code",
   "execution_count": 22,
   "metadata": {
    "ExecuteTime": {
     "end_time": "2020-10-11T07:33:12.464251Z",
     "start_time": "2020-10-11T07:33:12.454250Z"
    }
   },
   "outputs": [
    {
     "data": {
      "text/plain": [
       "505"
      ]
     },
     "execution_count": 22,
     "metadata": {},
     "output_type": "execute_result"
    }
   ],
   "source": [
    "# количество строк\n",
    "len(data)"
   ]
  },
  {
   "cell_type": "code",
   "execution_count": 23,
   "metadata": {
    "ExecuteTime": {
     "end_time": "2020-10-11T07:33:14.012339Z",
     "start_time": "2020-10-11T07:33:14.004339Z"
    }
   },
   "outputs": [
    {
     "data": {
      "text/plain": [
       "67"
      ]
     },
     "execution_count": 23,
     "metadata": {},
     "output_type": "execute_result"
    }
   ],
   "source": [
    "# из них строк с компаниями из области Industrials (столбец Sector)\n",
    "ind=data['Sector']=='Industrials'\n",
    "sum(ind)"
   ]
  },
  {
   "cell_type": "markdown",
   "metadata": {},
   "source": [
    "> _Примечание: так как false интерпретируется как 0, а true как 1, то sum() и дает число истинных элементов._ "
   ]
  },
  {
   "cell_type": "markdown",
   "metadata": {
    "collapsed": true
   },
   "source": [
    "## Группировка данных \n",
    "\n",
    "Данные можно сгруппировать по различным критериям, за это отвечает метод [`groupby()`](https://pandas.pydata.org/pandas-docs/stable/reference/api/pandas.DataFrame.groupby.html), к результатам которого можно применять разные функции.\n",
    "\n",
    "Общий подход показан на рисунке:\n",
    "\n",
    "данные разбиваются построчно по уникальным значениям (ключ, на рисунке столбец x), стоки с одинаковыми ключами объединяются в группы и к группам применяются заданные функции (подсчет среднего на рисунке для столбца y), затем результаты объединяются.\n",
    "\n",
    "![img](split_apply_combine.png)\n"
   ]
  },
  {
   "cell_type": "code",
   "execution_count": 24,
   "metadata": {
    "ExecuteTime": {
     "end_time": "2020-10-11T07:33:18.552599Z",
     "start_time": "2020-10-11T07:33:18.536598Z"
    }
   },
   "outputs": [
    {
     "data": {
      "text/plain": [
       "Sector\n",
       "Consumer Discretionary        84\n",
       "Consumer Staples              34\n",
       "Energy                        32\n",
       "Financials                    68\n",
       "Health Care                   61\n",
       "Industrials                   67\n",
       "Information Technology        70\n",
       "Materials                     25\n",
       "Real Estate                   33\n",
       "Telecommunication Services     3\n",
       "Utilities                     28\n",
       "dtype: int64"
      ]
     },
     "execution_count": 24,
     "metadata": {},
     "output_type": "execute_result"
    }
   ],
   "source": [
    "# группируем по значениям столбцов Sector и\n",
    "group=data.groupby('Sector')\n",
    "group.size() # считаем количество строк, оказавшихся в каждой группе"
   ]
  },
  {
   "cell_type": "code",
   "execution_count": 25,
   "metadata": {
    "ExecuteTime": {
     "end_time": "2020-10-11T07:33:21.642776Z",
     "start_time": "2020-10-11T07:33:21.614774Z"
    }
   },
   "outputs": [
    {
     "data": {
      "text/html": [
       "<div>\n",
       "<style scoped>\n",
       "    .dataframe tbody tr th:only-of-type {\n",
       "        vertical-align: middle;\n",
       "    }\n",
       "\n",
       "    .dataframe tbody tr th {\n",
       "        vertical-align: top;\n",
       "    }\n",
       "\n",
       "    .dataframe thead th {\n",
       "        text-align: right;\n",
       "    }\n",
       "</style>\n",
       "<table border=\"1\" class=\"dataframe\">\n",
       "  <thead>\n",
       "    <tr style=\"text-align: right;\">\n",
       "      <th></th>\n",
       "      <th>Symbol</th>\n",
       "      <th>Name</th>\n",
       "      <th>Price</th>\n",
       "      <th>Price/Earnings</th>\n",
       "      <th>Dividend Yield</th>\n",
       "      <th>Earnings/Share</th>\n",
       "      <th>52 Week Low</th>\n",
       "      <th>52 Week High</th>\n",
       "      <th>Market Cap</th>\n",
       "      <th>EBITDA</th>\n",
       "      <th>Price/Sales</th>\n",
       "      <th>Price/Book</th>\n",
       "      <th>SEC Filings</th>\n",
       "    </tr>\n",
       "    <tr>\n",
       "      <th>Sector</th>\n",
       "      <th></th>\n",
       "      <th></th>\n",
       "      <th></th>\n",
       "      <th></th>\n",
       "      <th></th>\n",
       "      <th></th>\n",
       "      <th></th>\n",
       "      <th></th>\n",
       "      <th></th>\n",
       "      <th></th>\n",
       "      <th></th>\n",
       "      <th></th>\n",
       "      <th></th>\n",
       "    </tr>\n",
       "  </thead>\n",
       "  <tbody>\n",
       "    <tr>\n",
       "      <th>Consumer Discretionary</th>\n",
       "      <td>84</td>\n",
       "      <td>84</td>\n",
       "      <td>84</td>\n",
       "      <td>83</td>\n",
       "      <td>84</td>\n",
       "      <td>84</td>\n",
       "      <td>84</td>\n",
       "      <td>84</td>\n",
       "      <td>84</td>\n",
       "      <td>84</td>\n",
       "      <td>84</td>\n",
       "      <td>83</td>\n",
       "      <td>84</td>\n",
       "    </tr>\n",
       "    <tr>\n",
       "      <th>Consumer Staples</th>\n",
       "      <td>34</td>\n",
       "      <td>34</td>\n",
       "      <td>34</td>\n",
       "      <td>34</td>\n",
       "      <td>34</td>\n",
       "      <td>34</td>\n",
       "      <td>34</td>\n",
       "      <td>34</td>\n",
       "      <td>34</td>\n",
       "      <td>34</td>\n",
       "      <td>34</td>\n",
       "      <td>33</td>\n",
       "      <td>34</td>\n",
       "    </tr>\n",
       "    <tr>\n",
       "      <th>Energy</th>\n",
       "      <td>32</td>\n",
       "      <td>32</td>\n",
       "      <td>32</td>\n",
       "      <td>32</td>\n",
       "      <td>32</td>\n",
       "      <td>32</td>\n",
       "      <td>32</td>\n",
       "      <td>32</td>\n",
       "      <td>32</td>\n",
       "      <td>32</td>\n",
       "      <td>32</td>\n",
       "      <td>30</td>\n",
       "      <td>32</td>\n",
       "    </tr>\n",
       "    <tr>\n",
       "      <th>Financials</th>\n",
       "      <td>68</td>\n",
       "      <td>68</td>\n",
       "      <td>68</td>\n",
       "      <td>68</td>\n",
       "      <td>68</td>\n",
       "      <td>68</td>\n",
       "      <td>68</td>\n",
       "      <td>68</td>\n",
       "      <td>68</td>\n",
       "      <td>68</td>\n",
       "      <td>68</td>\n",
       "      <td>68</td>\n",
       "      <td>68</td>\n",
       "    </tr>\n",
       "    <tr>\n",
       "      <th>Health Care</th>\n",
       "      <td>61</td>\n",
       "      <td>61</td>\n",
       "      <td>61</td>\n",
       "      <td>60</td>\n",
       "      <td>61</td>\n",
       "      <td>61</td>\n",
       "      <td>61</td>\n",
       "      <td>61</td>\n",
       "      <td>61</td>\n",
       "      <td>61</td>\n",
       "      <td>61</td>\n",
       "      <td>60</td>\n",
       "      <td>61</td>\n",
       "    </tr>\n",
       "    <tr>\n",
       "      <th>Industrials</th>\n",
       "      <td>67</td>\n",
       "      <td>67</td>\n",
       "      <td>67</td>\n",
       "      <td>67</td>\n",
       "      <td>67</td>\n",
       "      <td>67</td>\n",
       "      <td>67</td>\n",
       "      <td>67</td>\n",
       "      <td>67</td>\n",
       "      <td>67</td>\n",
       "      <td>67</td>\n",
       "      <td>64</td>\n",
       "      <td>67</td>\n",
       "    </tr>\n",
       "    <tr>\n",
       "      <th>Information Technology</th>\n",
       "      <td>70</td>\n",
       "      <td>70</td>\n",
       "      <td>70</td>\n",
       "      <td>70</td>\n",
       "      <td>70</td>\n",
       "      <td>70</td>\n",
       "      <td>70</td>\n",
       "      <td>70</td>\n",
       "      <td>70</td>\n",
       "      <td>70</td>\n",
       "      <td>70</td>\n",
       "      <td>70</td>\n",
       "      <td>70</td>\n",
       "    </tr>\n",
       "    <tr>\n",
       "      <th>Materials</th>\n",
       "      <td>25</td>\n",
       "      <td>25</td>\n",
       "      <td>25</td>\n",
       "      <td>25</td>\n",
       "      <td>25</td>\n",
       "      <td>25</td>\n",
       "      <td>25</td>\n",
       "      <td>25</td>\n",
       "      <td>25</td>\n",
       "      <td>25</td>\n",
       "      <td>25</td>\n",
       "      <td>25</td>\n",
       "      <td>25</td>\n",
       "    </tr>\n",
       "    <tr>\n",
       "      <th>Real Estate</th>\n",
       "      <td>33</td>\n",
       "      <td>33</td>\n",
       "      <td>33</td>\n",
       "      <td>33</td>\n",
       "      <td>33</td>\n",
       "      <td>33</td>\n",
       "      <td>33</td>\n",
       "      <td>33</td>\n",
       "      <td>33</td>\n",
       "      <td>33</td>\n",
       "      <td>33</td>\n",
       "      <td>33</td>\n",
       "      <td>33</td>\n",
       "    </tr>\n",
       "    <tr>\n",
       "      <th>Telecommunication Services</th>\n",
       "      <td>3</td>\n",
       "      <td>3</td>\n",
       "      <td>3</td>\n",
       "      <td>3</td>\n",
       "      <td>3</td>\n",
       "      <td>3</td>\n",
       "      <td>3</td>\n",
       "      <td>3</td>\n",
       "      <td>3</td>\n",
       "      <td>3</td>\n",
       "      <td>3</td>\n",
       "      <td>3</td>\n",
       "      <td>3</td>\n",
       "    </tr>\n",
       "    <tr>\n",
       "      <th>Utilities</th>\n",
       "      <td>28</td>\n",
       "      <td>28</td>\n",
       "      <td>28</td>\n",
       "      <td>28</td>\n",
       "      <td>28</td>\n",
       "      <td>28</td>\n",
       "      <td>28</td>\n",
       "      <td>28</td>\n",
       "      <td>28</td>\n",
       "      <td>28</td>\n",
       "      <td>28</td>\n",
       "      <td>28</td>\n",
       "      <td>28</td>\n",
       "    </tr>\n",
       "  </tbody>\n",
       "</table>\n",
       "</div>"
      ],
      "text/plain": [
       "                            Symbol  Name  Price  Price/Earnings  \\\n",
       "Sector                                                            \n",
       "Consumer Discretionary          84    84     84              83   \n",
       "Consumer Staples                34    34     34              34   \n",
       "Energy                          32    32     32              32   \n",
       "Financials                      68    68     68              68   \n",
       "Health Care                     61    61     61              60   \n",
       "Industrials                     67    67     67              67   \n",
       "Information Technology          70    70     70              70   \n",
       "Materials                       25    25     25              25   \n",
       "Real Estate                     33    33     33              33   \n",
       "Telecommunication Services       3     3      3               3   \n",
       "Utilities                       28    28     28              28   \n",
       "\n",
       "                            Dividend Yield  Earnings/Share  52 Week Low  \\\n",
       "Sector                                                                    \n",
       "Consumer Discretionary                  84              84           84   \n",
       "Consumer Staples                        34              34           34   \n",
       "Energy                                  32              32           32   \n",
       "Financials                              68              68           68   \n",
       "Health Care                             61              61           61   \n",
       "Industrials                             67              67           67   \n",
       "Information Technology                  70              70           70   \n",
       "Materials                               25              25           25   \n",
       "Real Estate                             33              33           33   \n",
       "Telecommunication Services               3               3            3   \n",
       "Utilities                               28              28           28   \n",
       "\n",
       "                            52 Week High  Market Cap  EBITDA  Price/Sales  \\\n",
       "Sector                                                                      \n",
       "Consumer Discretionary                84          84      84           84   \n",
       "Consumer Staples                      34          34      34           34   \n",
       "Energy                                32          32      32           32   \n",
       "Financials                            68          68      68           68   \n",
       "Health Care                           61          61      61           61   \n",
       "Industrials                           67          67      67           67   \n",
       "Information Technology                70          70      70           70   \n",
       "Materials                             25          25      25           25   \n",
       "Real Estate                           33          33      33           33   \n",
       "Telecommunication Services             3           3       3            3   \n",
       "Utilities                             28          28      28           28   \n",
       "\n",
       "                            Price/Book  SEC Filings  \n",
       "Sector                                               \n",
       "Consumer Discretionary              83           84  \n",
       "Consumer Staples                    33           34  \n",
       "Energy                              30           32  \n",
       "Financials                          68           68  \n",
       "Health Care                         60           61  \n",
       "Industrials                         64           67  \n",
       "Information Technology              70           70  \n",
       "Materials                           25           25  \n",
       "Real Estate                         33           33  \n",
       "Telecommunication Services           3            3  \n",
       "Utilities                           28           28  "
      ]
     },
     "execution_count": 25,
     "metadata": {},
     "output_type": "execute_result"
    }
   ],
   "source": [
    "full_sites = train_df[sites]\n",
    "full_sites.head()\n"
   ]
  },
  {
   "cell_type": "code",
   "execution_count": 26,
   "metadata": {
    "ExecuteTime": {
     "end_time": "2020-10-11T07:33:24.293927Z",
     "start_time": "2020-10-11T07:33:24.286927Z"
    }
   },
   "outputs": [
    {
     "data": {
      "text/plain": [
       "Sector\n",
       "Consumer Discretionary         65.140\n",
       "Consumer Staples               69.750\n",
       "Energy                         50.325\n",
       "Financials                     71.105\n",
       "Health Care                    96.420\n",
       "Industrials                    87.600\n",
       "Information Technology         84.770\n",
       "Materials                     105.180\n",
       "Real Estate                    58.360\n",
       "Telecommunication Services     35.570\n",
       "Utilities                      49.660\n",
       "Name: Price, dtype: float64"
      ]
     },
     "execution_count": 26,
     "metadata": {},
     "output_type": "execute_result"
    }
   ],
   "source": [
    "group.Price.median() # медиана для групп по числовому столбцу Price\n",
    "# тут-то нам и пригодилось обращение к столбцу как к атрибуту\n",
    "\n",
    "#group['Price'].median() # альтернативное написание"
   ]
  },
  {
   "cell_type": "code",
   "execution_count": 27,
   "metadata": {
    "ExecuteTime": {
     "end_time": "2020-10-11T07:33:26.328044Z",
     "start_time": "2020-10-11T07:33:26.304042Z"
    }
   },
   "outputs": [
    {
     "data": {
      "text/html": [
       "<div>\n",
       "<style scoped>\n",
       "    .dataframe tbody tr th:only-of-type {\n",
       "        vertical-align: middle;\n",
       "    }\n",
       "\n",
       "    .dataframe tbody tr th {\n",
       "        vertical-align: top;\n",
       "    }\n",
       "\n",
       "    .dataframe thead th {\n",
       "        text-align: right;\n",
       "    }\n",
       "</style>\n",
       "<table border=\"1\" class=\"dataframe\">\n",
       "  <thead>\n",
       "    <tr style=\"text-align: right;\">\n",
       "      <th></th>\n",
       "      <th>Symbol</th>\n",
       "      <th>Name</th>\n",
       "      <th>Sector</th>\n",
       "      <th>Price</th>\n",
       "      <th>Price/Earnings</th>\n",
       "      <th>Dividend Yield</th>\n",
       "      <th>Earnings/Share</th>\n",
       "      <th>52 Week Low</th>\n",
       "      <th>52 Week High</th>\n",
       "      <th>Market Cap</th>\n",
       "      <th>EBITDA</th>\n",
       "      <th>Price/Sales</th>\n",
       "      <th>Price/Book</th>\n",
       "      <th>SEC Filings</th>\n",
       "    </tr>\n",
       "  </thead>\n",
       "  <tbody>\n",
       "    <tr>\n",
       "      <th>15</th>\n",
       "      <td>APD</td>\n",
       "      <td>Air Products &amp; Chemicals Inc</td>\n",
       "      <td>Materials</td>\n",
       "      <td>152.80</td>\n",
       "      <td>24.22</td>\n",
       "      <td>2.781114</td>\n",
       "      <td>13.66</td>\n",
       "      <td>175.1700</td>\n",
       "      <td>133.6301</td>\n",
       "      <td>34638387128</td>\n",
       "      <td>2.542500e+09</td>\n",
       "      <td>4.116368</td>\n",
       "      <td>3.35</td>\n",
       "      <td>http://www.sec.gov/cgi-bin/browse-edgar?action...</td>\n",
       "    </tr>\n",
       "    <tr>\n",
       "      <th>18</th>\n",
       "      <td>ALB</td>\n",
       "      <td>Albemarle Corp</td>\n",
       "      <td>Materials</td>\n",
       "      <td>105.18</td>\n",
       "      <td>26.03</td>\n",
       "      <td>1.200413</td>\n",
       "      <td>5.66</td>\n",
       "      <td>144.9900</td>\n",
       "      <td>90.3500</td>\n",
       "      <td>11782151266</td>\n",
       "      <td>6.860300e+08</td>\n",
       "      <td>5.366620</td>\n",
       "      <td>2.98</td>\n",
       "      <td>http://www.sec.gov/cgi-bin/browse-edgar?action...</td>\n",
       "    </tr>\n",
       "    <tr>\n",
       "      <th>63</th>\n",
       "      <td>AVY</td>\n",
       "      <td>Avery Dennison Corp</td>\n",
       "      <td>Materials</td>\n",
       "      <td>110.77</td>\n",
       "      <td>22.11</td>\n",
       "      <td>1.568217</td>\n",
       "      <td>3.11</td>\n",
       "      <td>123.6700</td>\n",
       "      <td>78.4710</td>\n",
       "      <td>10104814319</td>\n",
       "      <td>8.312000e+08</td>\n",
       "      <td>1.520650</td>\n",
       "      <td>8.83</td>\n",
       "      <td>http://www.sec.gov/cgi-bin/browse-edgar?action...</td>\n",
       "    </tr>\n",
       "    <tr>\n",
       "      <th>65</th>\n",
       "      <td>BLL</td>\n",
       "      <td>Ball Corp</td>\n",
       "      <td>Materials</td>\n",
       "      <td>38.44</td>\n",
       "      <td>20.56</td>\n",
       "      <td>1.017035</td>\n",
       "      <td>0.85</td>\n",
       "      <td>43.2400</td>\n",
       "      <td>35.6000</td>\n",
       "      <td>13767688518</td>\n",
       "      <td>1.317000e+09</td>\n",
       "      <td>1.569640</td>\n",
       "      <td>3.62</td>\n",
       "      <td>http://www.sec.gov/cgi-bin/browse-edgar?action...</td>\n",
       "    </tr>\n",
       "    <tr>\n",
       "      <th>101</th>\n",
       "      <td>CF</td>\n",
       "      <td>CF Industries Holdings Inc</td>\n",
       "      <td>Materials</td>\n",
       "      <td>37.46</td>\n",
       "      <td>-59.46</td>\n",
       "      <td>3.039514</td>\n",
       "      <td>-1.20</td>\n",
       "      <td>43.9800</td>\n",
       "      <td>25.0400</td>\n",
       "      <td>9209106695</td>\n",
       "      <td>7.110000e+08</td>\n",
       "      <td>3.004445</td>\n",
       "      <td>2.81</td>\n",
       "      <td>http://www.sec.gov/cgi-bin/browse-edgar?action...</td>\n",
       "    </tr>\n",
       "    <tr>\n",
       "      <th>154</th>\n",
       "      <td>DWDP</td>\n",
       "      <td>DowDuPont</td>\n",
       "      <td>Materials</td>\n",
       "      <td>68.21</td>\n",
       "      <td>49.43</td>\n",
       "      <td>2.152975</td>\n",
       "      <td>1.59</td>\n",
       "      <td>77.0800</td>\n",
       "      <td>64.0100</td>\n",
       "      <td>165203312427</td>\n",
       "      <td>5.250000e+09</td>\n",
       "      <td>2.692239</td>\n",
       "      <td>1.54</td>\n",
       "      <td>http://www.sec.gov/cgi-bin/browse-edgar?action...</td>\n",
       "    </tr>\n",
       "    <tr>\n",
       "      <th>161</th>\n",
       "      <td>EMN</td>\n",
       "      <td>Eastman Chemical</td>\n",
       "      <td>Materials</td>\n",
       "      <td>93.57</td>\n",
       "      <td>12.28</td>\n",
       "      <td>2.263084</td>\n",
       "      <td>10.12</td>\n",
       "      <td>104.0800</td>\n",
       "      <td>76.0200</td>\n",
       "      <td>14226830813</td>\n",
       "      <td>2.152000e+09</td>\n",
       "      <td>1.490479</td>\n",
       "      <td>2.78</td>\n",
       "      <td>http://www.sec.gov/cgi-bin/browse-edgar?action...</td>\n",
       "    </tr>\n",
       "    <tr>\n",
       "      <th>164</th>\n",
       "      <td>ECL</td>\n",
       "      <td>Ecolab Inc.</td>\n",
       "      <td>Materials</td>\n",
       "      <td>127.76</td>\n",
       "      <td>28.08</td>\n",
       "      <td>1.231971</td>\n",
       "      <td>4.14</td>\n",
       "      <td>140.5000</td>\n",
       "      <td>119.6100</td>\n",
       "      <td>38460272282</td>\n",
       "      <td>2.848600e+09</td>\n",
       "      <td>3.736069</td>\n",
       "      <td>5.28</td>\n",
       "      <td>http://www.sec.gov/cgi-bin/browse-edgar?action...</td>\n",
       "    </tr>\n",
       "    <tr>\n",
       "      <th>198</th>\n",
       "      <td>FMC</td>\n",
       "      <td>FMC Corporation</td>\n",
       "      <td>Materials</td>\n",
       "      <td>80.87</td>\n",
       "      <td>32.48</td>\n",
       "      <td>0.785995</td>\n",
       "      <td>1.56</td>\n",
       "      <td>98.7000</td>\n",
       "      <td>56.5300</td>\n",
       "      <td>11273961835</td>\n",
       "      <td>5.578000e+08</td>\n",
       "      <td>6.008904</td>\n",
       "      <td>5.26</td>\n",
       "      <td>http://www.sec.gov/cgi-bin/browse-edgar?action...</td>\n",
       "    </tr>\n",
       "    <tr>\n",
       "      <th>204</th>\n",
       "      <td>FCX</td>\n",
       "      <td>Freeport-McMoRan Inc.</td>\n",
       "      <td>Materials</td>\n",
       "      <td>17.16</td>\n",
       "      <td>14.67</td>\n",
       "      <td>1.119821</td>\n",
       "      <td>1.24</td>\n",
       "      <td>20.2500</td>\n",
       "      <td>11.0500</td>\n",
       "      <td>25853969330</td>\n",
       "      <td>5.347000e+09</td>\n",
       "      <td>1.653835</td>\n",
       "      <td>3.66</td>\n",
       "      <td>http://www.sec.gov/cgi-bin/browse-edgar?action...</td>\n",
       "    </tr>\n",
       "    <tr>\n",
       "      <th>250</th>\n",
       "      <td>IP</td>\n",
       "      <td>International Paper</td>\n",
       "      <td>Materials</td>\n",
       "      <td>56.05</td>\n",
       "      <td>15.57</td>\n",
       "      <td>3.206751</td>\n",
       "      <td>5.14</td>\n",
       "      <td>66.9400</td>\n",
       "      <td>49.6000</td>\n",
       "      <td>24465996443</td>\n",
       "      <td>3.004000e+09</td>\n",
       "      <td>1.073826</td>\n",
       "      <td>4.99</td>\n",
       "      <td>http://www.sec.gov/cgi-bin/browse-edgar?action...</td>\n",
       "    </tr>\n",
       "    <tr>\n",
       "      <th>252</th>\n",
       "      <td>IFF</td>\n",
       "      <td>Intl Flavors &amp; Fragrances</td>\n",
       "      <td>Materials</td>\n",
       "      <td>138.00</td>\n",
       "      <td>24.17</td>\n",
       "      <td>1.934128</td>\n",
       "      <td>5.05</td>\n",
       "      <td>157.4000</td>\n",
       "      <td>116.3000</td>\n",
       "      <td>11270040447</td>\n",
       "      <td>6.999630e+08</td>\n",
       "      <td>4.420881</td>\n",
       "      <td>6.34</td>\n",
       "      <td>http://www.sec.gov/cgi-bin/browse-edgar?action...</td>\n",
       "    </tr>\n",
       "    <tr>\n",
       "      <th>288</th>\n",
       "      <td>LYB</td>\n",
       "      <td>LyondellBasell</td>\n",
       "      <td>Materials</td>\n",
       "      <td>105.79</td>\n",
       "      <td>10.35</td>\n",
       "      <td>3.264714</td>\n",
       "      <td>12.25</td>\n",
       "      <td>121.9500</td>\n",
       "      <td>78.0100</td>\n",
       "      <td>43556650000</td>\n",
       "      <td>6.851000e+09</td>\n",
       "      <td>1.303761</td>\n",
       "      <td>5.86</td>\n",
       "      <td>http://www.sec.gov/cgi-bin/browse-edgar?action...</td>\n",
       "    </tr>\n",
       "    <tr>\n",
       "      <th>296</th>\n",
       "      <td>MLM</td>\n",
       "      <td>Martin Marietta Materials</td>\n",
       "      <td>Materials</td>\n",
       "      <td>208.42</td>\n",
       "      <td>30.38</td>\n",
       "      <td>0.804204</td>\n",
       "      <td>6.63</td>\n",
       "      <td>244.3200</td>\n",
       "      <td>191.0900</td>\n",
       "      <td>13756812736</td>\n",
       "      <td>9.752230e+08</td>\n",
       "      <td>4.416998</td>\n",
       "      <td>3.03</td>\n",
       "      <td>http://www.sec.gov/cgi-bin/browse-edgar?action...</td>\n",
       "    </tr>\n",
       "    <tr>\n",
       "      <th>316</th>\n",
       "      <td>MON</td>\n",
       "      <td>Monsanto Co.</td>\n",
       "      <td>Materials</td>\n",
       "      <td>119.08</td>\n",
       "      <td>21.53</td>\n",
       "      <td>1.793871</td>\n",
       "      <td>5.09</td>\n",
       "      <td>123.1500</td>\n",
       "      <td>106.9700</td>\n",
       "      <td>53076824328</td>\n",
       "      <td>4.217000e+09</td>\n",
       "      <td>3.589782</td>\n",
       "      <td>7.96</td>\n",
       "      <td>http://www.sec.gov/cgi-bin/browse-edgar?action...</td>\n",
       "    </tr>\n",
       "    <tr>\n",
       "      <th>329</th>\n",
       "      <td>NEM</td>\n",
       "      <td>Newmont Mining Corporation</td>\n",
       "      <td>Materials</td>\n",
       "      <td>36.61</td>\n",
       "      <td>26.34</td>\n",
       "      <td>0.810154</td>\n",
       "      <td>-1.18</td>\n",
       "      <td>42.0400</td>\n",
       "      <td>31.4200</td>\n",
       "      <td>19749449484</td>\n",
       "      <td>1.509000e+09</td>\n",
       "      <td>3.707639</td>\n",
       "      <td>1.81</td>\n",
       "      <td>http://www.sec.gov/cgi-bin/browse-edgar?action...</td>\n",
       "    </tr>\n",
       "    <tr>\n",
       "      <th>343</th>\n",
       "      <td>NUE</td>\n",
       "      <td>Nucor Corp.</td>\n",
       "      <td>Materials</td>\n",
       "      <td>60.38</td>\n",
       "      <td>17.01</td>\n",
       "      <td>2.415766</td>\n",
       "      <td>4.10</td>\n",
       "      <td>70.4800</td>\n",
       "      <td>51.6700</td>\n",
       "      <td>20003317128</td>\n",
       "      <td>2.648729e+09</td>\n",
       "      <td>0.998376</td>\n",
       "      <td>2.34</td>\n",
       "      <td>http://www.sec.gov/cgi-bin/browse-edgar?action...</td>\n",
       "    </tr>\n",
       "    <tr>\n",
       "      <th>351</th>\n",
       "      <td>PKG</td>\n",
       "      <td>Packaging Corporation of America</td>\n",
       "      <td>Materials</td>\n",
       "      <td>111.95</td>\n",
       "      <td>18.57</td>\n",
       "      <td>2.151456</td>\n",
       "      <td>7.07</td>\n",
       "      <td>131.1316</td>\n",
       "      <td>88.4700</td>\n",
       "      <td>11051273948</td>\n",
       "      <td>1.214900e+09</td>\n",
       "      <td>1.741522</td>\n",
       "      <td>5.54</td>\n",
       "      <td>http://www.sec.gov/cgi-bin/browse-edgar?action...</td>\n",
       "    </tr>\n",
       "    <tr>\n",
       "      <th>369</th>\n",
       "      <td>PPG</td>\n",
       "      <td>PPG Industries</td>\n",
       "      <td>Materials</td>\n",
       "      <td>110.30</td>\n",
       "      <td>18.73</td>\n",
       "      <td>1.577149</td>\n",
       "      <td>6.31</td>\n",
       "      <td>122.0697</td>\n",
       "      <td>99.5700</td>\n",
       "      <td>29043337549</td>\n",
       "      <td>2.585000e+09</td>\n",
       "      <td>1.955105</td>\n",
       "      <td>4.83</td>\n",
       "      <td>http://www.sec.gov/cgi-bin/browse-edgar?action...</td>\n",
       "    </tr>\n",
       "    <tr>\n",
       "      <th>371</th>\n",
       "      <td>PX</td>\n",
       "      <td>Praxair Inc.</td>\n",
       "      <td>Materials</td>\n",
       "      <td>144.07</td>\n",
       "      <td>24.63</td>\n",
       "      <td>2.199853</td>\n",
       "      <td>4.32</td>\n",
       "      <td>166.9500</td>\n",
       "      <td>115.5300</td>\n",
       "      <td>42948664203</td>\n",
       "      <td>3.632000e+09</td>\n",
       "      <td>3.887915</td>\n",
       "      <td>6.88</td>\n",
       "      <td>http://www.sec.gov/cgi-bin/browse-edgar?action...</td>\n",
       "    </tr>\n",
       "    <tr>\n",
       "      <th>409</th>\n",
       "      <td>SEE</td>\n",
       "      <td>Sealed Air</td>\n",
       "      <td>Materials</td>\n",
       "      <td>42.62</td>\n",
       "      <td>21.31</td>\n",
       "      <td>1.442741</td>\n",
       "      <td>2.46</td>\n",
       "      <td>50.6200</td>\n",
       "      <td>41.2200</td>\n",
       "      <td>8001938397</td>\n",
       "      <td>9.697000e+08</td>\n",
       "      <td>2.470007</td>\n",
       "      <td>10.55</td>\n",
       "      <td>http://www.sec.gov/cgi-bin/browse-edgar?action...</td>\n",
       "    </tr>\n",
       "    <tr>\n",
       "      <th>411</th>\n",
       "      <td>SHW</td>\n",
       "      <td>Sherwin-Williams</td>\n",
       "      <td>Materials</td>\n",
       "      <td>387.65</td>\n",
       "      <td>26.75</td>\n",
       "      <td>0.842669</td>\n",
       "      <td>18.61</td>\n",
       "      <td>435.1500</td>\n",
       "      <td>302.0101</td>\n",
       "      <td>37730994828</td>\n",
       "      <td>2.160668e+09</td>\n",
       "      <td>2.527608</td>\n",
       "      <td>13.42</td>\n",
       "      <td>http://www.sec.gov/cgi-bin/browse-edgar?action...</td>\n",
       "    </tr>\n",
       "    <tr>\n",
       "      <th>440</th>\n",
       "      <td>MOS</td>\n",
       "      <td>The Mosaic Company</td>\n",
       "      <td>Materials</td>\n",
       "      <td>24.13</td>\n",
       "      <td>23.66</td>\n",
       "      <td>0.396040</td>\n",
       "      <td>0.85</td>\n",
       "      <td>34.3600</td>\n",
       "      <td>19.2300</td>\n",
       "      <td>9726962131</td>\n",
       "      <td>1.165100e+09</td>\n",
       "      <td>1.816196</td>\n",
       "      <td>0.94</td>\n",
       "      <td>http://www.sec.gov/cgi-bin/browse-edgar?action...</td>\n",
       "    </tr>\n",
       "    <tr>\n",
       "      <th>479</th>\n",
       "      <td>VMC</td>\n",
       "      <td>Vulcan Materials</td>\n",
       "      <td>Materials</td>\n",
       "      <td>121.47</td>\n",
       "      <td>40.90</td>\n",
       "      <td>0.779788</td>\n",
       "      <td>3.10</td>\n",
       "      <td>141.2000</td>\n",
       "      <td>108.9500</td>\n",
       "      <td>16964162228</td>\n",
       "      <td>9.709760e+08</td>\n",
       "      <td>5.757688</td>\n",
       "      <td>3.54</td>\n",
       "      <td>http://www.sec.gov/cgi-bin/browse-edgar?action...</td>\n",
       "    </tr>\n",
       "    <tr>\n",
       "      <th>489</th>\n",
       "      <td>WRK</td>\n",
       "      <td>WestRock Company</td>\n",
       "      <td>Materials</td>\n",
       "      <td>60.93</td>\n",
       "      <td>23.26</td>\n",
       "      <td>2.669978</td>\n",
       "      <td>2.77</td>\n",
       "      <td>71.5500</td>\n",
       "      <td>49.2300</td>\n",
       "      <td>16433340688</td>\n",
       "      <td>2.262300e+09</td>\n",
       "      <td>1.075785</td>\n",
       "      <td>1.58</td>\n",
       "      <td>http://www.sec.gov/cgi-bin/browse-edgar?action...</td>\n",
       "    </tr>\n",
       "  </tbody>\n",
       "</table>\n",
       "</div>"
      ],
      "text/plain": [
       "    Symbol                              Name     Sector   Price  \\\n",
       "15     APD      Air Products & Chemicals Inc  Materials  152.80   \n",
       "18     ALB                    Albemarle Corp  Materials  105.18   \n",
       "63     AVY               Avery Dennison Corp  Materials  110.77   \n",
       "65     BLL                         Ball Corp  Materials   38.44   \n",
       "101     CF        CF Industries Holdings Inc  Materials   37.46   \n",
       "154   DWDP                         DowDuPont  Materials   68.21   \n",
       "161    EMN                  Eastman Chemical  Materials   93.57   \n",
       "164    ECL                       Ecolab Inc.  Materials  127.76   \n",
       "198    FMC                   FMC Corporation  Materials   80.87   \n",
       "204    FCX             Freeport-McMoRan Inc.  Materials   17.16   \n",
       "250     IP               International Paper  Materials   56.05   \n",
       "252    IFF         Intl Flavors & Fragrances  Materials  138.00   \n",
       "288    LYB                    LyondellBasell  Materials  105.79   \n",
       "296    MLM         Martin Marietta Materials  Materials  208.42   \n",
       "316    MON                      Monsanto Co.  Materials  119.08   \n",
       "329    NEM        Newmont Mining Corporation  Materials   36.61   \n",
       "343    NUE                       Nucor Corp.  Materials   60.38   \n",
       "351    PKG  Packaging Corporation of America  Materials  111.95   \n",
       "369    PPG                    PPG Industries  Materials  110.30   \n",
       "371     PX                      Praxair Inc.  Materials  144.07   \n",
       "409    SEE                        Sealed Air  Materials   42.62   \n",
       "411    SHW                  Sherwin-Williams  Materials  387.65   \n",
       "440    MOS                The Mosaic Company  Materials   24.13   \n",
       "479    VMC                  Vulcan Materials  Materials  121.47   \n",
       "489    WRK                  WestRock Company  Materials   60.93   \n",
       "\n",
       "     Price/Earnings  Dividend Yield  Earnings/Share  52 Week Low  \\\n",
       "15            24.22        2.781114           13.66     175.1700   \n",
       "18            26.03        1.200413            5.66     144.9900   \n",
       "63            22.11        1.568217            3.11     123.6700   \n",
       "65            20.56        1.017035            0.85      43.2400   \n",
       "101          -59.46        3.039514           -1.20      43.9800   \n",
       "154           49.43        2.152975            1.59      77.0800   \n",
       "161           12.28        2.263084           10.12     104.0800   \n",
       "164           28.08        1.231971            4.14     140.5000   \n",
       "198           32.48        0.785995            1.56      98.7000   \n",
       "204           14.67        1.119821            1.24      20.2500   \n",
       "250           15.57        3.206751            5.14      66.9400   \n",
       "252           24.17        1.934128            5.05     157.4000   \n",
       "288           10.35        3.264714           12.25     121.9500   \n",
       "296           30.38        0.804204            6.63     244.3200   \n",
       "316           21.53        1.793871            5.09     123.1500   \n",
       "329           26.34        0.810154           -1.18      42.0400   \n",
       "343           17.01        2.415766            4.10      70.4800   \n",
       "351           18.57        2.151456            7.07     131.1316   \n",
       "369           18.73        1.577149            6.31     122.0697   \n",
       "371           24.63        2.199853            4.32     166.9500   \n",
       "409           21.31        1.442741            2.46      50.6200   \n",
       "411           26.75        0.842669           18.61     435.1500   \n",
       "440           23.66        0.396040            0.85      34.3600   \n",
       "479           40.90        0.779788            3.10     141.2000   \n",
       "489           23.26        2.669978            2.77      71.5500   \n",
       "\n",
       "     52 Week High    Market Cap        EBITDA  Price/Sales  Price/Book  \\\n",
       "15       133.6301   34638387128  2.542500e+09     4.116368        3.35   \n",
       "18        90.3500   11782151266  6.860300e+08     5.366620        2.98   \n",
       "63        78.4710   10104814319  8.312000e+08     1.520650        8.83   \n",
       "65        35.6000   13767688518  1.317000e+09     1.569640        3.62   \n",
       "101       25.0400    9209106695  7.110000e+08     3.004445        2.81   \n",
       "154       64.0100  165203312427  5.250000e+09     2.692239        1.54   \n",
       "161       76.0200   14226830813  2.152000e+09     1.490479        2.78   \n",
       "164      119.6100   38460272282  2.848600e+09     3.736069        5.28   \n",
       "198       56.5300   11273961835  5.578000e+08     6.008904        5.26   \n",
       "204       11.0500   25853969330  5.347000e+09     1.653835        3.66   \n",
       "250       49.6000   24465996443  3.004000e+09     1.073826        4.99   \n",
       "252      116.3000   11270040447  6.999630e+08     4.420881        6.34   \n",
       "288       78.0100   43556650000  6.851000e+09     1.303761        5.86   \n",
       "296      191.0900   13756812736  9.752230e+08     4.416998        3.03   \n",
       "316      106.9700   53076824328  4.217000e+09     3.589782        7.96   \n",
       "329       31.4200   19749449484  1.509000e+09     3.707639        1.81   \n",
       "343       51.6700   20003317128  2.648729e+09     0.998376        2.34   \n",
       "351       88.4700   11051273948  1.214900e+09     1.741522        5.54   \n",
       "369       99.5700   29043337549  2.585000e+09     1.955105        4.83   \n",
       "371      115.5300   42948664203  3.632000e+09     3.887915        6.88   \n",
       "409       41.2200    8001938397  9.697000e+08     2.470007       10.55   \n",
       "411      302.0101   37730994828  2.160668e+09     2.527608       13.42   \n",
       "440       19.2300    9726962131  1.165100e+09     1.816196        0.94   \n",
       "479      108.9500   16964162228  9.709760e+08     5.757688        3.54   \n",
       "489       49.2300   16433340688  2.262300e+09     1.075785        1.58   \n",
       "\n",
       "                                           SEC Filings  \n",
       "15   http://www.sec.gov/cgi-bin/browse-edgar?action...  \n",
       "18   http://www.sec.gov/cgi-bin/browse-edgar?action...  \n",
       "63   http://www.sec.gov/cgi-bin/browse-edgar?action...  \n",
       "65   http://www.sec.gov/cgi-bin/browse-edgar?action...  \n",
       "101  http://www.sec.gov/cgi-bin/browse-edgar?action...  \n",
       "154  http://www.sec.gov/cgi-bin/browse-edgar?action...  \n",
       "161  http://www.sec.gov/cgi-bin/browse-edgar?action...  \n",
       "164  http://www.sec.gov/cgi-bin/browse-edgar?action...  \n",
       "198  http://www.sec.gov/cgi-bin/browse-edgar?action...  \n",
       "204  http://www.sec.gov/cgi-bin/browse-edgar?action...  \n",
       "250  http://www.sec.gov/cgi-bin/browse-edgar?action...  \n",
       "252  http://www.sec.gov/cgi-bin/browse-edgar?action...  \n",
       "288  http://www.sec.gov/cgi-bin/browse-edgar?action...  \n",
       "296  http://www.sec.gov/cgi-bin/browse-edgar?action...  \n",
       "316  http://www.sec.gov/cgi-bin/browse-edgar?action...  \n",
       "329  http://www.sec.gov/cgi-bin/browse-edgar?action...  \n",
       "343  http://www.sec.gov/cgi-bin/browse-edgar?action...  \n",
       "351  http://www.sec.gov/cgi-bin/browse-edgar?action...  \n",
       "369  http://www.sec.gov/cgi-bin/browse-edgar?action...  \n",
       "371  http://www.sec.gov/cgi-bin/browse-edgar?action...  \n",
       "409  http://www.sec.gov/cgi-bin/browse-edgar?action...  \n",
       "411  http://www.sec.gov/cgi-bin/browse-edgar?action...  \n",
       "440  http://www.sec.gov/cgi-bin/browse-edgar?action...  \n",
       "479  http://www.sec.gov/cgi-bin/browse-edgar?action...  \n",
       "489  http://www.sec.gov/cgi-bin/browse-edgar?action...  "
      ]
     },
     "execution_count": 27,
     "metadata": {},
     "output_type": "execute_result"
    }
   ],
   "source": [
    "# каждую группу можно посмотреть, вот состав группы Materials\n",
    "group.get_group('Materials')"
   ]
  },
  {
   "cell_type": "markdown",
   "metadata": {},
   "source": [
    "Уникальные (т.е. без повторов) названия (столбец Name) компаний в каждой группе."
   ]
  },
  {
   "cell_type": "code",
   "execution_count": 28,
   "metadata": {
    "ExecuteTime": {
     "end_time": "2020-10-11T07:33:32.308386Z",
     "start_time": "2020-10-11T07:33:32.297385Z"
    }
   },
   "outputs": [
    {
     "data": {
      "text/plain": [
       "Sector\n",
       "Consumer Discretionary        [Advance Auto Parts, Amazon.com Inc, Aptiv Plc...\n",
       "Consumer Staples              [Altria Group Inc, Archer-Daniels-Midland Co, ...\n",
       "Energy                        [Anadarko Petroleum Corp, Andeavor, Apache Cor...\n",
       "Financials                    [Affiliated Managers Group Inc, AFLAC Inc, All...\n",
       "Health Care                   [Abbott Laboratories, AbbVie Inc., Aetna Inc, ...\n",
       "Industrials                   [3M Company, A.O. Smith Corp, Acuity Brands In...\n",
       "Information Technology        [Accenture plc, Activision Blizzard, Adobe Sys...\n",
       "Materials                     [Air Products & Chemicals Inc, Albemarle Corp,...\n",
       "Real Estate                   [Alexandria Real Estate Equities Inc, American...\n",
       "Telecommunication Services    [AT&T Inc, CenturyLink Inc, Verizon Communicat...\n",
       "Utilities                     [AES Corp, Alliant Energy Corp, Ameren Corp, A...\n",
       "Name: Name, dtype: object"
      ]
     },
     "execution_count": 28,
     "metadata": {},
     "output_type": "execute_result"
    }
   ],
   "source": [
    "group.Name.unique()"
   ]
  },
  {
   "cell_type": "markdown",
   "metadata": {},
   "source": [
    "Каждая группа здесь это кортеж названий и содержания (последовательность) группы.\n",
    "\n",
    "Посмотрим, есть ли в группе хоть одна фирма с аббревиатурой (столбец Symbol) начинающейся на букву \"А\"."
   ]
  },
  {
   "cell_type": "code",
   "execution_count": 29,
   "metadata": {
    "ExecuteTime": {
     "end_time": "2020-10-11T07:33:36.131604Z",
     "start_time": "2020-10-11T07:33:36.121604Z"
    },
    "run_control": {
     "marked": false
    }
   },
   "outputs": [
    {
     "name": "stdout",
     "output_type": "stream",
     "text": [
      "Consumer Discretionary: True\n",
      "Consumer Staples: True\n",
      "Energy: True\n",
      "Financials: True\n",
      "Health Care: True\n",
      "Industrials: True\n",
      "Information Technology: True\n",
      "Materials: True\n",
      "Real Estate: True\n",
      "Telecommunication Services: False\n",
      "Utilities: True\n"
     ]
    }
   ],
   "source": [
    "letter=\"A\"\n",
    "for i in group.Symbol:\n",
    "    print('{}: {}'.format(i[0],(i[1].str.get(0)==letter).any()))  "
   ]
  },
  {
   "cell_type": "markdown",
   "metadata": {},
   "source": [
    "Что здесь происходит:\n",
    "- группы можно итерировать, в цикле переменная i будет являться последовательно кортежем из названия и содержание каждой из групп в которой оставлен только столбец Symbol.\n",
    "- i[0] - название группы, i[1] - содержимое текущей группы, в нашем случае это объект типа Series.\n",
    "- у этого объекта Series есть атрибут str, который позволяет работать с элементами как со строкой.\n",
    "- метод get() для строки возвращает символ строки на определенном месте, 0 - это первый символ.\n",
    "- сравниваем этот первый символ с буквой \"A\", получаем или истину или ложь.\n",
    "- так как в группе может быть не одна строка, то в результате получится логический вектор (тип Series) из значений истина\\ложь. \n",
    "- метод any() для логических векторов возвращает истину если хотя бы один элемент вектора истинный, что нам и требуется.\n",
    "- наконец печатаем результат.\n",
    "\n"
   ]
  },
  {
   "cell_type": "markdown",
   "metadata": {},
   "source": [
    "Агрегировать группы можно разными функциями, даже своими собственными, в этом помогает метод [`agg()`](https://pandas.pydata.org/pandas-docs/stable/reference/api/pandas.core.groupby.GroupBy.agg.html?highlight=agg#pandas.core.groupby.GroupBy.agg), который позволяет применять одну или несколько функций к группам. Давайте сделаем свою функцию и применим ее к группам."
   ]
  },
  {
   "cell_type": "code",
   "execution_count": 30,
   "metadata": {
    "ExecuteTime": {
     "end_time": "2020-10-11T07:33:40.638862Z",
     "start_time": "2020-10-11T07:33:40.625862Z"
    }
   },
   "outputs": [
    {
     "data": {
      "text/html": [
       "<div>\n",
       "<style scoped>\n",
       "    .dataframe tbody tr th:only-of-type {\n",
       "        vertical-align: middle;\n",
       "    }\n",
       "\n",
       "    .dataframe tbody tr th {\n",
       "        vertical-align: top;\n",
       "    }\n",
       "\n",
       "    .dataframe thead th {\n",
       "        text-align: right;\n",
       "    }\n",
       "</style>\n",
       "<table border=\"1\" class=\"dataframe\">\n",
       "  <thead>\n",
       "    <tr style=\"text-align: right;\">\n",
       "      <th></th>\n",
       "      <th>max_min</th>\n",
       "      <th>mean</th>\n",
       "    </tr>\n",
       "    <tr>\n",
       "      <th>Sector</th>\n",
       "      <th></th>\n",
       "      <th></th>\n",
       "    </tr>\n",
       "  </thead>\n",
       "  <tbody>\n",
       "    <tr>\n",
       "      <th>Consumer Discretionary</th>\n",
       "      <td>1795.63</td>\n",
       "      <td>124.034524</td>\n",
       "    </tr>\n",
       "    <tr>\n",
       "      <th>Consumer Staples</th>\n",
       "      <td>188.77</td>\n",
       "      <td>79.764118</td>\n",
       "    </tr>\n",
       "    <tr>\n",
       "      <th>Energy</th>\n",
       "      <td>166.34</td>\n",
       "      <td>57.887500</td>\n",
       "    </tr>\n",
       "    <tr>\n",
       "      <th>Financials</th>\n",
       "      <td>496.00</td>\n",
       "      <td>89.056029</td>\n",
       "    </tr>\n",
       "    <tr>\n",
       "      <th>Health Care</th>\n",
       "      <td>575.80</td>\n",
       "      <td>132.515738</td>\n",
       "    </tr>\n",
       "    <tr>\n",
       "      <th>Industrials</th>\n",
       "      <td>319.85</td>\n",
       "      <td>116.887612</td>\n",
       "    </tr>\n",
       "    <tr>\n",
       "      <th>Information Technology</th>\n",
       "      <td>996.49</td>\n",
       "      <td>119.242857</td>\n",
       "    </tr>\n",
       "    <tr>\n",
       "      <th>Materials</th>\n",
       "      <td>370.49</td>\n",
       "      <td>102.386800</td>\n",
       "    </tr>\n",
       "    <tr>\n",
       "      <th>Real Estate</th>\n",
       "      <td>395.97</td>\n",
       "      <td>88.712727</td>\n",
       "    </tr>\n",
       "    <tr>\n",
       "      <th>Telecommunication Services</th>\n",
       "      <td>32.84</td>\n",
       "      <td>33.603333</td>\n",
       "    </tr>\n",
       "    <tr>\n",
       "      <th>Utilities</th>\n",
       "      <td>135.23</td>\n",
       "      <td>55.194643</td>\n",
       "    </tr>\n",
       "  </tbody>\n",
       "</table>\n",
       "</div>"
      ],
      "text/plain": [
       "                            max_min        mean\n",
       "Sector                                         \n",
       "Consumer Discretionary      1795.63  124.034524\n",
       "Consumer Staples             188.77   79.764118\n",
       "Energy                       166.34   57.887500\n",
       "Financials                   496.00   89.056029\n",
       "Health Care                  575.80  132.515738\n",
       "Industrials                  319.85  116.887612\n",
       "Information Technology       996.49  119.242857\n",
       "Materials                    370.49  102.386800\n",
       "Real Estate                  395.97   88.712727\n",
       "Telecommunication Services    32.84   33.603333\n",
       "Utilities                    135.23   55.194643"
      ]
     },
     "execution_count": 30,
     "metadata": {},
     "output_type": "execute_result"
    }
   ],
   "source": [
    "cv = CountVectorizer(ngram_range=(1,1), max_features=50000)\n",
    "with open('data_sessions_text.txt') as inp_file:\n",
    "    data = cv.fit_transform(inp_file)\n"
   ]
  },
  {
   "cell_type": "markdown",
   "metadata": {
    "ExecuteTime": {
     "end_time": "2020-08-07T14:18:37.766665Z",
     "start_time": "2020-08-07T14:18:37.761664Z"
    }
   },
   "source": [
    "## Разбивка на интервалы\n",
    "Значения в столбце можно разбить на интервалы, назвать их и записать эти интервалы вместо значений. В этом поможет команда [`cut`](https://pandas.pydata.org/pandas-docs/stable/reference/api/pandas.cut.html?highlight=cut#pandas.cut) которой указываем что разбивать, сколько интервалов сделать, их названия и другие аргументы. "
   ]
  },
  {
   "cell_type": "code",
   "execution_count": 31,
   "metadata": {
    "ExecuteTime": {
     "end_time": "2020-10-11T07:33:44.177065Z",
     "start_time": "2020-10-11T07:33:44.146063Z"
    }
   },
   "outputs": [
    {
     "data": {
      "text/plain": [
       "0      Low\n",
       "1      Low\n",
       "2      Low\n",
       "3      Low\n",
       "4      Low\n",
       "      ... \n",
       "500    Low\n",
       "501    Low\n",
       "502    Low\n",
       "503    Low\n",
       "504    Low\n",
       "Name: Price, Length: 505, dtype: category\n",
       "Categories (5, object): ['Low' < 'Medium' < 'High' < 'Very High' < 'Exclusive']"
      ]
     },
     "execution_count": 31,
     "metadata": {},
     "output_type": "execute_result"
    }
   ],
   "source": [
    "# разбиваем столбец Price на 5 интервалов, называем их.\n",
    "cuted=pd.cut(data['Price'], 5,labels=['Low','Medium','High','Very High','Exclusive'], include_lowest=True)\n",
    "cuted"
   ]
  },
  {
   "cell_type": "markdown",
   "metadata": {},
   "source": [
    "Заменим столбец Price на cuted"
   ]
  },
  {
   "cell_type": "code",
   "execution_count": 32,
   "metadata": {
    "ExecuteTime": {
     "end_time": "2020-10-11T07:33:47.405249Z",
     "start_time": "2020-10-11T07:33:47.381248Z"
    }
   },
   "outputs": [
    {
     "data": {
      "text/html": [
       "<div>\n",
       "<style scoped>\n",
       "    .dataframe tbody tr th:only-of-type {\n",
       "        vertical-align: middle;\n",
       "    }\n",
       "\n",
       "    .dataframe tbody tr th {\n",
       "        vertical-align: top;\n",
       "    }\n",
       "\n",
       "    .dataframe thead th {\n",
       "        text-align: right;\n",
       "    }\n",
       "</style>\n",
       "<table border=\"1\" class=\"dataframe\">\n",
       "  <thead>\n",
       "    <tr style=\"text-align: right;\">\n",
       "      <th></th>\n",
       "      <th>Symbol</th>\n",
       "      <th>Name</th>\n",
       "      <th>Sector</th>\n",
       "      <th>Price</th>\n",
       "      <th>Price/Earnings</th>\n",
       "      <th>Dividend Yield</th>\n",
       "      <th>Earnings/Share</th>\n",
       "      <th>52 Week Low</th>\n",
       "      <th>52 Week High</th>\n",
       "      <th>Market Cap</th>\n",
       "      <th>EBITDA</th>\n",
       "      <th>Price/Sales</th>\n",
       "      <th>Price/Book</th>\n",
       "      <th>SEC Filings</th>\n",
       "    </tr>\n",
       "  </thead>\n",
       "  <tbody>\n",
       "    <tr>\n",
       "      <th>0</th>\n",
       "      <td>MMM</td>\n",
       "      <td>3M Company</td>\n",
       "      <td>Industrials</td>\n",
       "      <td>Low</td>\n",
       "      <td>24.31</td>\n",
       "      <td>2.332862</td>\n",
       "      <td>7.92</td>\n",
       "      <td>259.77</td>\n",
       "      <td>175.490</td>\n",
       "      <td>138721055226</td>\n",
       "      <td>9.048000e+09</td>\n",
       "      <td>4.390271</td>\n",
       "      <td>11.34</td>\n",
       "      <td>http://www.sec.gov/cgi-bin/browse-edgar?action...</td>\n",
       "    </tr>\n",
       "    <tr>\n",
       "      <th>1</th>\n",
       "      <td>AOS</td>\n",
       "      <td>A.O. Smith Corp</td>\n",
       "      <td>Industrials</td>\n",
       "      <td>Low</td>\n",
       "      <td>27.76</td>\n",
       "      <td>1.147959</td>\n",
       "      <td>1.70</td>\n",
       "      <td>68.39</td>\n",
       "      <td>48.925</td>\n",
       "      <td>10783419933</td>\n",
       "      <td>6.010000e+08</td>\n",
       "      <td>3.575483</td>\n",
       "      <td>6.35</td>\n",
       "      <td>http://www.sec.gov/cgi-bin/browse-edgar?action...</td>\n",
       "    </tr>\n",
       "    <tr>\n",
       "      <th>2</th>\n",
       "      <td>ABT</td>\n",
       "      <td>Abbott Laboratories</td>\n",
       "      <td>Health Care</td>\n",
       "      <td>Low</td>\n",
       "      <td>22.51</td>\n",
       "      <td>1.908982</td>\n",
       "      <td>0.26</td>\n",
       "      <td>64.60</td>\n",
       "      <td>42.280</td>\n",
       "      <td>102121042306</td>\n",
       "      <td>5.744000e+09</td>\n",
       "      <td>3.740480</td>\n",
       "      <td>3.19</td>\n",
       "      <td>http://www.sec.gov/cgi-bin/browse-edgar?action...</td>\n",
       "    </tr>\n",
       "    <tr>\n",
       "      <th>3</th>\n",
       "      <td>ABBV</td>\n",
       "      <td>AbbVie Inc.</td>\n",
       "      <td>Health Care</td>\n",
       "      <td>Low</td>\n",
       "      <td>19.41</td>\n",
       "      <td>2.499560</td>\n",
       "      <td>3.29</td>\n",
       "      <td>125.86</td>\n",
       "      <td>60.050</td>\n",
       "      <td>181386347059</td>\n",
       "      <td>1.031000e+10</td>\n",
       "      <td>6.291571</td>\n",
       "      <td>26.14</td>\n",
       "      <td>http://www.sec.gov/cgi-bin/browse-edgar?action...</td>\n",
       "    </tr>\n",
       "    <tr>\n",
       "      <th>4</th>\n",
       "      <td>ACN</td>\n",
       "      <td>Accenture plc</td>\n",
       "      <td>Information Technology</td>\n",
       "      <td>Low</td>\n",
       "      <td>25.47</td>\n",
       "      <td>1.714470</td>\n",
       "      <td>5.44</td>\n",
       "      <td>162.60</td>\n",
       "      <td>114.820</td>\n",
       "      <td>98765855553</td>\n",
       "      <td>5.643228e+09</td>\n",
       "      <td>2.604117</td>\n",
       "      <td>10.62</td>\n",
       "      <td>http://www.sec.gov/cgi-bin/browse-edgar?action...</td>\n",
       "    </tr>\n",
       "    <tr>\n",
       "      <th>...</th>\n",
       "      <td>...</td>\n",
       "      <td>...</td>\n",
       "      <td>...</td>\n",
       "      <td>...</td>\n",
       "      <td>...</td>\n",
       "      <td>...</td>\n",
       "      <td>...</td>\n",
       "      <td>...</td>\n",
       "      <td>...</td>\n",
       "      <td>...</td>\n",
       "      <td>...</td>\n",
       "      <td>...</td>\n",
       "      <td>...</td>\n",
       "      <td>...</td>\n",
       "    </tr>\n",
       "    <tr>\n",
       "      <th>500</th>\n",
       "      <td>XYL</td>\n",
       "      <td>Xylem Inc.</td>\n",
       "      <td>Industrials</td>\n",
       "      <td>Low</td>\n",
       "      <td>30.94</td>\n",
       "      <td>1.170079</td>\n",
       "      <td>1.83</td>\n",
       "      <td>76.81</td>\n",
       "      <td>46.860</td>\n",
       "      <td>12915021000</td>\n",
       "      <td>7.220000e+08</td>\n",
       "      <td>2.726209</td>\n",
       "      <td>5.31</td>\n",
       "      <td>http://www.sec.gov/cgi-bin/browse-edgar?action...</td>\n",
       "    </tr>\n",
       "    <tr>\n",
       "      <th>501</th>\n",
       "      <td>YUM</td>\n",
       "      <td>Yum! Brands Inc</td>\n",
       "      <td>Consumer Discretionary</td>\n",
       "      <td>Low</td>\n",
       "      <td>27.25</td>\n",
       "      <td>1.797080</td>\n",
       "      <td>4.07</td>\n",
       "      <td>86.93</td>\n",
       "      <td>62.850</td>\n",
       "      <td>27003303098</td>\n",
       "      <td>2.289000e+09</td>\n",
       "      <td>6.313636</td>\n",
       "      <td>212.08</td>\n",
       "      <td>http://www.sec.gov/cgi-bin/browse-edgar?action...</td>\n",
       "    </tr>\n",
       "    <tr>\n",
       "      <th>502</th>\n",
       "      <td>ZBH</td>\n",
       "      <td>Zimmer Biomet Holdings</td>\n",
       "      <td>Health Care</td>\n",
       "      <td>Low</td>\n",
       "      <td>14.32</td>\n",
       "      <td>0.794834</td>\n",
       "      <td>9.01</td>\n",
       "      <td>133.49</td>\n",
       "      <td>108.170</td>\n",
       "      <td>24454698119</td>\n",
       "      <td>2.007400e+09</td>\n",
       "      <td>3.164895</td>\n",
       "      <td>2.39</td>\n",
       "      <td>http://www.sec.gov/cgi-bin/browse-edgar?action...</td>\n",
       "    </tr>\n",
       "    <tr>\n",
       "      <th>503</th>\n",
       "      <td>ZION</td>\n",
       "      <td>Zions Bancorp</td>\n",
       "      <td>Financials</td>\n",
       "      <td>Low</td>\n",
       "      <td>17.73</td>\n",
       "      <td>1.480933</td>\n",
       "      <td>2.60</td>\n",
       "      <td>55.61</td>\n",
       "      <td>38.430</td>\n",
       "      <td>10670678640</td>\n",
       "      <td>0.000000e+00</td>\n",
       "      <td>3.794579</td>\n",
       "      <td>1.42</td>\n",
       "      <td>http://www.sec.gov/cgi-bin/browse-edgar?action...</td>\n",
       "    </tr>\n",
       "    <tr>\n",
       "      <th>504</th>\n",
       "      <td>ZTS</td>\n",
       "      <td>Zoetis</td>\n",
       "      <td>Health Care</td>\n",
       "      <td>Low</td>\n",
       "      <td>32.80</td>\n",
       "      <td>0.682372</td>\n",
       "      <td>1.65</td>\n",
       "      <td>80.13</td>\n",
       "      <td>52.000</td>\n",
       "      <td>35991109776</td>\n",
       "      <td>1.734000e+09</td>\n",
       "      <td>9.280896</td>\n",
       "      <td>18.09</td>\n",
       "      <td>http://www.sec.gov/cgi-bin/browse-edgar?action...</td>\n",
       "    </tr>\n",
       "  </tbody>\n",
       "</table>\n",
       "<p>505 rows × 14 columns</p>\n",
       "</div>"
      ],
      "text/plain": [
       "    Symbol                    Name                  Sector Price  \\\n",
       "0      MMM              3M Company             Industrials   Low   \n",
       "1      AOS         A.O. Smith Corp             Industrials   Low   \n",
       "2      ABT     Abbott Laboratories             Health Care   Low   \n",
       "3     ABBV             AbbVie Inc.             Health Care   Low   \n",
       "4      ACN           Accenture plc  Information Technology   Low   \n",
       "..     ...                     ...                     ...   ...   \n",
       "500    XYL              Xylem Inc.             Industrials   Low   \n",
       "501    YUM         Yum! Brands Inc  Consumer Discretionary   Low   \n",
       "502    ZBH  Zimmer Biomet Holdings             Health Care   Low   \n",
       "503   ZION           Zions Bancorp              Financials   Low   \n",
       "504    ZTS                  Zoetis             Health Care   Low   \n",
       "\n",
       "     Price/Earnings  Dividend Yield  Earnings/Share  52 Week Low  \\\n",
       "0             24.31        2.332862            7.92       259.77   \n",
       "1             27.76        1.147959            1.70        68.39   \n",
       "2             22.51        1.908982            0.26        64.60   \n",
       "3             19.41        2.499560            3.29       125.86   \n",
       "4             25.47        1.714470            5.44       162.60   \n",
       "..              ...             ...             ...          ...   \n",
       "500           30.94        1.170079            1.83        76.81   \n",
       "501           27.25        1.797080            4.07        86.93   \n",
       "502           14.32        0.794834            9.01       133.49   \n",
       "503           17.73        1.480933            2.60        55.61   \n",
       "504           32.80        0.682372            1.65        80.13   \n",
       "\n",
       "     52 Week High    Market Cap        EBITDA  Price/Sales  Price/Book  \\\n",
       "0         175.490  138721055226  9.048000e+09     4.390271       11.34   \n",
       "1          48.925   10783419933  6.010000e+08     3.575483        6.35   \n",
       "2          42.280  102121042306  5.744000e+09     3.740480        3.19   \n",
       "3          60.050  181386347059  1.031000e+10     6.291571       26.14   \n",
       "4         114.820   98765855553  5.643228e+09     2.604117       10.62   \n",
       "..            ...           ...           ...          ...         ...   \n",
       "500        46.860   12915021000  7.220000e+08     2.726209        5.31   \n",
       "501        62.850   27003303098  2.289000e+09     6.313636      212.08   \n",
       "502       108.170   24454698119  2.007400e+09     3.164895        2.39   \n",
       "503        38.430   10670678640  0.000000e+00     3.794579        1.42   \n",
       "504        52.000   35991109776  1.734000e+09     9.280896       18.09   \n",
       "\n",
       "                                           SEC Filings  \n",
       "0    http://www.sec.gov/cgi-bin/browse-edgar?action...  \n",
       "1    http://www.sec.gov/cgi-bin/browse-edgar?action...  \n",
       "2    http://www.sec.gov/cgi-bin/browse-edgar?action...  \n",
       "3    http://www.sec.gov/cgi-bin/browse-edgar?action...  \n",
       "4    http://www.sec.gov/cgi-bin/browse-edgar?action...  \n",
       "..                                                 ...  \n",
       "500  http://www.sec.gov/cgi-bin/browse-edgar?action...  \n",
       "501  http://www.sec.gov/cgi-bin/browse-edgar?action...  \n",
       "502  http://www.sec.gov/cgi-bin/browse-edgar?action...  \n",
       "503  http://www.sec.gov/cgi-bin/browse-edgar?action...  \n",
       "504  http://www.sec.gov/cgi-bin/browse-edgar?action...  \n",
       "\n",
       "[505 rows x 14 columns]"
      ]
     },
     "execution_count": 32,
     "metadata": {},
     "output_type": "execute_result"
    }
   ],
   "source": [
    "data['Price']=cuted\n",
    "data"
   ]
  },
  {
   "cell_type": "markdown",
   "metadata": {},
   "source": [
    "В качестве упражнения выведите на экран название (Name) фирмы, у которой цена (Price) входит в интервал Exclusive "
   ]
  },
  {
   "cell_type": "code",
   "execution_count": 33,
   "metadata": {
    "ExecuteTime": {
     "end_time": "2020-10-11T07:33:51.399478Z",
     "start_time": "2020-10-11T07:33:51.397478Z"
    }
   },
   "outputs": [],
   "source": [
    "#data[data['Price']=='Exclusive']['Name']\n"
   ]
  },
  {
   "cell_type": "markdown",
   "metadata": {},
   "source": [
    "# Задания\n",
    "Тщательно изучите документацию на библиотеку pandas и попробуйте самостоятельно выполнить группировку по другим столбцам."
   ]
  },
  {
   "cell_type": "code",
   "execution_count": null,
   "metadata": {},
   "outputs": [],
   "source": []
  }
 ],
 "metadata": {
  "hide_input": false,
  "kernelspec": {
   "display_name": "Python 3",
   "language": "python",
   "name": "python3"
  },
  "language_info": {
   "codemirror_mode": {
    "name": "ipython",
    "version": 3
   },
   "file_extension": ".py",
   "mimetype": "text/x-python",
   "name": "python",
   "nbconvert_exporter": "python",
   "pygments_lexer": "ipython3",
   "version": "3.8.8"
  },
  "latex_envs": {
   "LaTeX_envs_menu_present": true,
   "autoclose": false,
   "autocomplete": true,
   "bibliofile": "biblio.bib",
   "cite_by": "apalike",
   "current_citInitial": 1,
   "eqLabelWithNumbers": true,
   "eqNumInitial": 1,
   "hotkeys": {
    "equation": "Ctrl-E",
    "itemize": "Ctrl-I"
   },
   "labels_anchors": false,
   "latex_user_defs": false,
   "report_style_numbering": false,
   "user_envs_cfg": false
  },
  "nbTranslate": {
   "displayLangs": [
    "*"
   ],
   "hotkey": "alt-t",
   "langInMainMenu": true,
   "sourceLang": "en",
   "targetLang": "fr",
   "useGoogleTranslate": true
  },
  "toc": {
   "base_numbering": 1,
   "nav_menu": {},
   "number_sections": false,
   "sideBar": true,
   "skip_h1_title": true,
   "title_cell": "Table of Contents",
   "title_sidebar": "Contents",
   "toc_cell": false,
   "toc_position": {},
   "toc_section_display": true,
   "toc_window_display": false
  },
  "varInspector": {
   "cols": {
    "lenName": 16,
    "lenType": 16,
    "lenVar": 40
   },
   "kernels_config": {
    "python": {
     "delete_cmd_postfix": "",
     "delete_cmd_prefix": "del ",
     "library": "var_list.py",
     "varRefreshCmd": "print(var_dic_list())"
    },
    "r": {
     "delete_cmd_postfix": ") ",
     "delete_cmd_prefix": "rm(",
     "library": "var_list.r",
     "varRefreshCmd": "cat(var_dic_list()) "
    }
   },
   "types_to_exclude": [
    "module",
    "function",
    "builtin_function_or_method",
    "instance",
    "_Feature"
   ],
   "window_display": false
  }
 },
 "nbformat": 4,
 "nbformat_minor": 1
}
